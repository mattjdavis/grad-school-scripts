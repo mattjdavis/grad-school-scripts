{
 "cells": [
  {
   "cell_type": "markdown",
   "metadata": {
    "toc": true
   },
   "source": [
    "<h1>Table of Contents<span class=\"tocSkip\"></span></h1>\n",
    "<div class=\"toc\"><ul class=\"toc-item\"><li><span><a href=\"#binned\" data-toc-modified-id=\"binned-1\"><span class=\"toc-item-num\">1&nbsp;&nbsp;</span>binned</a></span><ul class=\"toc-item\"><li><span><a href=\"#get-bins\" data-toc-modified-id=\"get-bins-1.1\"><span class=\"toc-item-num\">1.1&nbsp;&nbsp;</span>get bins</a></span></li><li><span><a href=\"#plot\" data-toc-modified-id=\"plot-1.2\"><span class=\"toc-item-num\">1.2&nbsp;&nbsp;</span>plot</a></span></li></ul></li></ul></div>"
   ]
  },
  {
   "cell_type": "code",
   "execution_count": 9,
   "metadata": {
    "ExecuteTime": {
     "end_time": "2019-07-26T05:55:02.233737Z",
     "start_time": "2019-07-26T05:55:02.001246Z"
    },
    "code_folding": [
     0
    ]
   },
   "outputs": [],
   "source": [
    "# standard + plot\n",
    "\n",
    "# expt variables\n",
    "channel=creb.CHANNEL\n",
    "label=creb.IMAGING_LABEL\n",
    "\n",
    "# styles \n",
    "markers=creb.markers\n",
    "linestyles=creb.linestyles\n",
    "\n",
    "# labels \n",
    "group_labels=creb.labels\n",
    "GCAMP_label=creb.labels[0]\n",
    "CREB_label=creb.labels[1]\n",
    "DN_label=creb.labels[2]\n",
    "\n",
    "# colors \n",
    "colors = creb.colors\n",
    "GCAMP_color=creb.colors[0]\n",
    "CREB_color=creb.colors[1]\n",
    "DN_color=creb.colors[2]\n",
    "\n",
    "# set seaborn pallette\n",
    "sns.set_palette(colors)\n",
    "sns.set_style(\"white\")\n",
    "sns.set_style(\"ticks\")\n",
    "sns.set_context(\"talk\")\n",
    "\n",
    "# stats\n",
    "%load_ext rpy2.ipython"
   ]
  },
  {
   "cell_type": "code",
   "execution_count": 1,
   "metadata": {
    "ExecuteTime": {
     "end_time": "2019-07-26T05:50:18.487521Z",
     "start_time": "2019-07-26T05:50:18.469760Z"
    }
   },
   "outputs": [],
   "source": [
    "import lab.analysis.new_intervals as new_inter"
   ]
  },
  {
   "cell_type": "code",
   "execution_count": 19,
   "metadata": {
    "ExecuteTime": {
     "end_time": "2019-07-26T06:07:10.955336Z",
     "start_time": "2019-07-26T06:03:22.839344Z"
    }
   },
   "outputs": [
    {
     "name": "stdout",
     "output_type": "stream",
     "text": [
      "LOADED EXPERIMENT GROUPS: CREB,dn-CREB,Control\n",
      "Using filter...active\n"
     ]
    }
   ],
   "source": [
    "exptGrps,roi_filters = creb.load_creb_experiments(filter_type='active') "
   ]
  },
  {
   "cell_type": "markdown",
   "metadata": {},
   "source": [
    "# binned"
   ]
  },
  {
   "cell_type": "code",
   "execution_count": 59,
   "metadata": {
    "ExecuteTime": {
     "end_time": "2019-07-26T06:36:40.867526Z",
     "start_time": "2019-07-26T06:36:40.856578Z"
    }
   },
   "outputs": [
    {
     "data": {
      "text/plain": [
       "<module 'lab.mjd_scripts.helpers' from '/home/matt/code/analysis/lab/mjd_scripts/helpers.py'>"
      ]
     },
     "execution_count": 59,
     "metadata": {},
     "output_type": "execute_result"
    }
   ],
   "source": [
    "reload(mjdhelp)"
   ]
  },
  {
   "cell_type": "code",
   "execution_count": 24,
   "metadata": {
    "ExecuteTime": {
     "end_time": "2019-07-26T05:39:30.667186Z",
     "start_time": "2019-07-26T05:39:30.641096Z"
    }
   },
   "outputs": [],
   "source": [
    "for  ind,row in ints[ints.stop.isna()].iterrows():\n",
    "    t=row.trial"
   ]
  },
  {
   "cell_type": "markdown",
   "metadata": {},
   "source": [
    "## get bins"
   ]
  },
  {
   "cell_type": "code",
   "execution_count": 60,
   "metadata": {
    "ExecuteTime": {
     "end_time": "2019-07-26T06:39:09.095217Z",
     "start_time": "2019-07-26T06:36:49.514738Z"
    },
    "code_folding": []
   },
   "outputs": [],
   "source": [
    "\n",
    "interval_kwargs = {}\n",
    "kwargs = {}\n",
    "kwargs.update(interval_kwargs)\n",
    "binned_intervals = [mjdhelp.bin_intervals(new_inter.stationary_intervals(expt_grp, **kwargs),\n",
    "                    bin_size=2,resample=True) for expt_grp in exptGrps]\n",
    "#.iloc[np.arange(0,50)]"
   ]
  },
  {
   "cell_type": "code",
   "execution_count": 61,
   "metadata": {
    "ExecuteTime": {
     "end_time": "2019-07-26T06:46:11.925682Z",
     "start_time": "2019-07-26T06:46:11.910253Z"
    }
   },
   "outputs": [
    {
     "data": {
      "text/html": [
       "<div>\n",
       "<style scoped>\n",
       "    .dataframe tbody tr th:only-of-type {\n",
       "        vertical-align: middle;\n",
       "    }\n",
       "\n",
       "    .dataframe tbody tr th {\n",
       "        vertical-align: top;\n",
       "    }\n",
       "\n",
       "    .dataframe thead th {\n",
       "        text-align: right;\n",
       "    }\n",
       "</style>\n",
       "<table border=\"1\" class=\"dataframe\">\n",
       "  <thead>\n",
       "    <tr style=\"text-align: right;\">\n",
       "      <th></th>\n",
       "      <th>start</th>\n",
       "      <th>stop</th>\n",
       "      <th>trial</th>\n",
       "    </tr>\n",
       "  </thead>\n",
       "  <tbody>\n",
       "    <tr>\n",
       "      <th>0</th>\n",
       "      <td>90</td>\n",
       "      <td>90.0</td>\n",
       "      <td>[]</td>\n",
       "    </tr>\n",
       "  </tbody>\n",
       "</table>\n",
       "</div>"
      ],
      "text/plain": [
       "   start  stop trial\n",
       "0     90  90.0    []"
      ]
     },
     "execution_count": 61,
     "metadata": {},
     "output_type": "execute_result"
    }
   ],
   "source": [
    "binned_intervals[0][0]"
   ]
  },
  {
   "cell_type": "markdown",
   "metadata": {},
   "source": [
    "## plot"
   ]
  },
  {
   "cell_type": "code",
   "execution_count": 39,
   "metadata": {
    "ExecuteTime": {
     "end_time": "2019-07-26T06:32:04.865731Z",
     "start_time": "2019-07-26T06:31:43.118050Z"
    }
   },
   "outputs": [
    {
     "ename": "TypeError",
     "evalue": "slice indices must be integers or None or have an __index__ method",
     "output_type": "error",
     "traceback": [
      "\u001b[0;31m---------------------------------------------------------------------------\u001b[0m",
      "\u001b[0;31mTypeError\u001b[0m                                 Traceback (most recent call last)",
      "\u001b[0;32m<ipython-input-39-055dd811b60f>\u001b[0m in \u001b[0;36m<module>\u001b[0;34m()\u001b[0m\n\u001b[1;32m     16\u001b[0m     \u001b[0mplotby\u001b[0m\u001b[0;34m=\u001b[0m\u001b[0mNone\u001b[0m\u001b[0;34m,\u001b[0m \u001b[0mactivity_kwargs\u001b[0m\u001b[0;34m=\u001b[0m\u001b[0mactivity_kwargs\u001b[0m\u001b[0;34m,\u001b[0m \u001b[0mactivity_label\u001b[0m\u001b[0;34m=\u001b[0m\u001b[0;34m'Average num transients in 2 sec bins'\u001b[0m\u001b[0;34m,\u001b[0m\u001b[0;34m\u001b[0m\u001b[0m\n\u001b[1;32m     17\u001b[0m     \u001b[0mlabel_every_n\u001b[0m\u001b[0;34m=\u001b[0m\u001b[0;36m1\u001b[0m\u001b[0;34m,\u001b[0m \u001b[0mcolors\u001b[0m\u001b[0;34m=\u001b[0m\u001b[0mcolors\u001b[0m\u001b[0;34m,\u001b[0m \u001b[0mreturn_full_dataframes\u001b[0m\u001b[0;34m=\u001b[0m\u001b[0mFalse\u001b[0m\u001b[0;34m,\u001b[0m\u001b[0;34m\u001b[0m\u001b[0m\n\u001b[0;32m---> 18\u001b[0;31m     rotate_labels=False)\n\u001b[0m\u001b[1;32m     19\u001b[0m \u001b[0mn_tran_ax\u001b[0m\u001b[0;34m.\u001b[0m\u001b[0mlegend\u001b[0m\u001b[0;34m(\u001b[0m\u001b[0mloc\u001b[0m\u001b[0;34m=\u001b[0m\u001b[0;34m(\u001b[0m\u001b[0;36m.7\u001b[0m\u001b[0;34m,\u001b[0m \u001b[0;36m.55\u001b[0m\u001b[0;34m)\u001b[0m\u001b[0;34m,\u001b[0m \u001b[0mfontsize\u001b[0m\u001b[0;34m=\u001b[0m\u001b[0mlegend_fontsize\u001b[0m\u001b[0;34m)\u001b[0m\u001b[0;34m\u001b[0m\u001b[0m\n\u001b[1;32m     20\u001b[0m \u001b[0mn_tran_ax\u001b[0m\u001b[0;34m.\u001b[0m\u001b[0mspines\u001b[0m\u001b[0;34m[\u001b[0m\u001b[0;34m'bottom'\u001b[0m\u001b[0;34m]\u001b[0m\u001b[0;34m.\u001b[0m\u001b[0mset_linewidth\u001b[0m\u001b[0;34m(\u001b[0m\u001b[0;36m1\u001b[0m\u001b[0;34m)\u001b[0m\u001b[0;34m\u001b[0m\u001b[0m\n",
      "\u001b[0;32m/home/matt/code/analysis/lab/plotting/plot_metrics.pyc\u001b[0m in \u001b[0;36mplot_metric\u001b[0;34m(ax, exptGrps, metric_fn, plot_method, roi_filters, plot_abs, activity_kwargs, label_every_n, return_full_dataframes, rotate_labels, recalc, **plot_kwargs)\u001b[0m\n\u001b[1;32m     55\u001b[0m         \u001b[0;32mtry\u001b[0m\u001b[0;34m:\u001b[0m\u001b[0;34m\u001b[0m\u001b[0m\n\u001b[1;32m     56\u001b[0m             metric_data = metric_fn(\n\u001b[0;32m---> 57\u001b[0;31m                 exptGrp, roi_filter=roi_filter, **kwargs)\n\u001b[0m\u001b[1;32m     58\u001b[0m         \u001b[0;32mexcept\u001b[0m \u001b[0mTypeError\u001b[0m \u001b[0;32mas\u001b[0m \u001b[0me\u001b[0m\u001b[0;34m:\u001b[0m\u001b[0;34m\u001b[0m\u001b[0m\n\u001b[1;32m     59\u001b[0m             \u001b[0;32mif\u001b[0m \u001b[0;34m\"got an unexpected keyword argument 'roi_filter'\"\u001b[0m \u001b[0;32min\u001b[0m \u001b[0me\u001b[0m\u001b[0;34m.\u001b[0m\u001b[0mmessage\u001b[0m\u001b[0;34m:\u001b[0m\u001b[0;34m\u001b[0m\u001b[0m\n",
      "\u001b[0;32m/home/matt/code/analysis/lab/misc/misc.pyc\u001b[0m in \u001b[0;36mmemoizer\u001b[0;34m(*args, **kwargs)\u001b[0m\n\u001b[1;32m     76\u001b[0m         \u001b[0mkey\u001b[0m \u001b[0;34m=\u001b[0m \u001b[0;34m(\u001b[0m\u001b[0mkey1\u001b[0m\u001b[0;34m,\u001b[0m \u001b[0mkey2\u001b[0m\u001b[0;34m)\u001b[0m\u001b[0;34m\u001b[0m\u001b[0m\n\u001b[1;32m     77\u001b[0m         \u001b[0;32mif\u001b[0m \u001b[0mkey\u001b[0m \u001b[0;32mnot\u001b[0m \u001b[0;32min\u001b[0m \u001b[0mcache\u001b[0m\u001b[0;34m:\u001b[0m\u001b[0;34m\u001b[0m\u001b[0m\n\u001b[0;32m---> 78\u001b[0;31m             \u001b[0mcache\u001b[0m\u001b[0;34m[\u001b[0m\u001b[0mkey\u001b[0m\u001b[0;34m]\u001b[0m \u001b[0;34m=\u001b[0m \u001b[0mobj\u001b[0m\u001b[0;34m(\u001b[0m\u001b[0;34m*\u001b[0m\u001b[0margs\u001b[0m\u001b[0;34m,\u001b[0m \u001b[0;34m**\u001b[0m\u001b[0mkwargs\u001b[0m\u001b[0;34m)\u001b[0m\u001b[0;34m\u001b[0m\u001b[0m\n\u001b[0m\u001b[1;32m     79\u001b[0m         \u001b[0;32mreturn\u001b[0m \u001b[0m_memcopy\u001b[0m\u001b[0;34m(\u001b[0m\u001b[0mcache\u001b[0m\u001b[0;34m[\u001b[0m\u001b[0mkey\u001b[0m\u001b[0;34m]\u001b[0m\u001b[0;34m)\u001b[0m\u001b[0;34m\u001b[0m\u001b[0m\n\u001b[1;32m     80\u001b[0m     \u001b[0;32mreturn\u001b[0m \u001b[0mmemoizer\u001b[0m\u001b[0;34m\u001b[0m\u001b[0m\n",
      "\u001b[0;32m/home/matt/code/analysis/lab/analysis/imaging_analysis.pyc\u001b[0m in \u001b[0;36mpopulation_activity_by_interval\u001b[0;34m(expt_grp, stat, intervals, channel, label, roi_filter, **imaging_kwargs)\u001b[0m\n\u001b[1;32m    610\u001b[0m         expt_activity = ca.calc_activity(\n\u001b[1;32m    611\u001b[0m             \u001b[0mexpt\u001b[0m\u001b[0;34m,\u001b[0m \u001b[0mchannel\u001b[0m\u001b[0;34m=\u001b[0m\u001b[0mchannel\u001b[0m\u001b[0;34m,\u001b[0m \u001b[0mlabel\u001b[0m\u001b[0;34m=\u001b[0m\u001b[0mlabel\u001b[0m\u001b[0;34m,\u001b[0m \u001b[0mroi_filter\u001b[0m\u001b[0;34m=\u001b[0m\u001b[0mroi_filter\u001b[0m\u001b[0;34m,\u001b[0m\u001b[0;34m\u001b[0m\u001b[0m\n\u001b[0;32m--> 612\u001b[0;31m             method=stat, interval=expt_interval, **imaging_kwargs)\n\u001b[0m\u001b[1;32m    613\u001b[0m \u001b[0;34m\u001b[0m\u001b[0m\n\u001b[1;32m    614\u001b[0m         expt_rois = expt.rois(\n",
      "\u001b[0;32m/home/matt/code/analysis/lab/analysis/calc_activity.pyc\u001b[0m in \u001b[0;36mcalc_activity\u001b[0;34m(experiment, method, interval, dF, channel, label, roi_filter, demixed, running_kwargs, trans_threshold)\u001b[0m\n\u001b[1;32m     90\u001b[0m                 demixed=demixed)\n\u001b[1;32m     91\u001b[0m             \u001b[0minter\u001b[0m \u001b[0;34m=\u001b[0m \u001b[0mnp\u001b[0m\u001b[0;34m.\u001b[0m\u001b[0mzeros\u001b[0m\u001b[0;34m(\u001b[0m\u001b[0;34m(\u001b[0m\u001b[0mdata\u001b[0m\u001b[0;34m.\u001b[0m\u001b[0mshape\u001b[0m\u001b[0;34m[\u001b[0m\u001b[0;36m1\u001b[0m\u001b[0;34m]\u001b[0m\u001b[0;34m,\u001b[0m \u001b[0;36m1\u001b[0m\u001b[0;34m)\u001b[0m\u001b[0;34m,\u001b[0m \u001b[0;34m'bool'\u001b[0m\u001b[0;34m)\u001b[0m\u001b[0;34m\u001b[0m\u001b[0m\n\u001b[0;32m---> 92\u001b[0;31m             \u001b[0minter\u001b[0m\u001b[0;34m[\u001b[0m\u001b[0minterval\u001b[0m\u001b[0;34m[\u001b[0m\u001b[0;36m0\u001b[0m\u001b[0;34m]\u001b[0m\u001b[0;34m:\u001b[0m\u001b[0minterval\u001b[0m\u001b[0;34m[\u001b[0m\u001b[0;36m1\u001b[0m\u001b[0;34m]\u001b[0m \u001b[0;34m+\u001b[0m \u001b[0;36m1\u001b[0m\u001b[0;34m]\u001b[0m \u001b[0;34m=\u001b[0m \u001b[0mTrue\u001b[0m\u001b[0;34m\u001b[0m\u001b[0m\n\u001b[0m\u001b[1;32m     93\u001b[0m             \u001b[0minterval\u001b[0m \u001b[0;34m=\u001b[0m \u001b[0mnp\u001b[0m\u001b[0;34m.\u001b[0m\u001b[0mtile\u001b[0m\u001b[0;34m(\u001b[0m\u001b[0minter\u001b[0m\u001b[0;34m,\u001b[0m \u001b[0;34m(\u001b[0m\u001b[0mdata\u001b[0m\u001b[0;34m.\u001b[0m\u001b[0mshape\u001b[0m\u001b[0;34m[\u001b[0m\u001b[0;36m0\u001b[0m\u001b[0;34m]\u001b[0m\u001b[0;34m,\u001b[0m \u001b[0;36m1\u001b[0m\u001b[0;34m,\u001b[0m \u001b[0mdata\u001b[0m\u001b[0;34m.\u001b[0m\u001b[0mshape\u001b[0m\u001b[0;34m[\u001b[0m\u001b[0;36m2\u001b[0m\u001b[0;34m]\u001b[0m\u001b[0;34m)\u001b[0m\u001b[0;34m)\u001b[0m\u001b[0;34m\u001b[0m\u001b[0m\n\u001b[1;32m     94\u001b[0m \u001b[0;34m\u001b[0m\u001b[0m\n",
      "\u001b[0;31mTypeError\u001b[0m: slice indices must be integers or None or have an __index__ method"
     ]
    },
    {
     "data": {
      "image/png": "[encoded data removed]",
      "text/plain": [
       "<Figure size 432x432 with 1 Axes>"
      ]
     },
     "metadata": {},
     "output_type": "display_data"
    }
   ],
   "source": [
    "#plot\n",
    "fig = plt.figure(figsize=(6, 6))\n",
    "plt.rcParams['figure.facecolor'] = 'white'\n",
    "\n",
    "n_tran_ax=fig.add_subplot(111)\n",
    "ntran_roi_filters=roi_filters\n",
    "\n",
    "groupby=[['expt']]\n",
    "#roupby=[['expt','roi_id']]\n",
    "activity_kwargs = [\n",
    "    {'stat': 'n transients', 'intervals': grp_interval, 'channel': 'Ch2', 'label': 'suite2p_registered'}\n",
    "    for grp_interval in binned_intervals]#out_intervals]\n",
    "run_auc_out = plot_metric(\n",
    "    n_tran_ax, exptGrps, metric_fn=ia.population_activity_by_interval,\n",
    "    plot_method='hist', roi_filters=ntran_roi_filters, groupby=groupby,\n",
    "    plotby=None, activity_kwargs=activity_kwargs, activity_label='Average num transients in 2 sec bins',\n",
    "    label_every_n=1, colors=colors, return_full_dataframes=False,\n",
    "    rotate_labels=False)\n",
    "n_tran_ax.legend(loc=(.7, .55), fontsize=legend_fontsize)\n",
    "n_tran_ax.spines['bottom'].set_linewidth(1)\n",
    "n_tran_ax.spines['left'].set_linewidth(1)\n",
    "n_tran_ax.set_title('')\n",
    "#n_tran_ax.set_xlim()\n",
    "#n_tran_ax.set_ylim(.6, .03)\n",
    "#n_tran_ax.set_xticks()"
   ]
  }
 ],
 "metadata": {
  "kernelspec": {
   "display_name": "Python 2",
   "language": "python",
   "name": "python2"
  },
  "language_info": {
   "codemirror_mode": {
    "name": "ipython",
    "version": 2
   },
   "file_extension": ".py",
   "mimetype": "text/x-python",
   "name": "python",
   "nbconvert_exporter": "python",
   "pygments_lexer": "ipython2",
   "version": "2.7.16"
  },
  "toc": {
   "base_numbering": 1,
   "nav_menu": {},
   "number_sections": true,
   "sideBar": true,
   "skip_h1_title": false,
   "title_cell": "Table of Contents",
   "title_sidebar": "Contents",
   "toc_cell": true,
   "toc_position": {},
   "toc_section_display": true,
   "toc_window_display": false
  }
 },
 "nbformat": 4,
 "nbformat_minor": 2
}
