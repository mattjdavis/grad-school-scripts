{
 "cells": [
  {
   "cell_type": "markdown",
   "metadata": {},
   "source": [
    "# LAB snippets"
   ]
  },
  {
   "cell_type": "markdown",
   "metadata": {},
   "source": [
    "## save svg"
   ]
  },
  {
   "cell_type": "code",
   "execution_count": null,
   "metadata": {},
   "outputs": [],
   "source": [
    "g.savefig('figs/popvec-overall-dpair-pcboth.svg')"
   ]
  },
  {
   "cell_type": "markdown",
   "metadata": {},
   "source": [
    "## create experiment from trial_id"
   ]
  },
  {
   "cell_type": "code",
   "execution_count": null,
   "metadata": {},
   "outputs": [],
   "source": [
    "from lab.classes import database\n",
    "from lab.classes import pcExperimentGroup\n",
    "\n",
    "e2 = database.createExperiment(trial_id = trial_id2)\n",
    "e1 = database.createExperiment(trial_id = trial_id1)\n",
    "\n",
    "pc_kwargs = {'nPositionBins': 100,'channel': 'Ch2','imaging_label': 'suite2p_registered','demixed': False}\n",
    "g=pcExperimentGroup([e,e2], label='', **pc_kwargs)"
   ]
  },
  {
   "cell_type": "code",
   "execution_count": null,
   "metadata": {},
   "outputs": [],
   "source": []
  },
  {
   "cell_type": "markdown",
   "metadata": {},
   "source": [
    "## roi label to roi object"
   ]
  },
  {
   "cell_type": "code",
   "execution_count": null,
   "metadata": {},
   "outputs": [],
   "source": [
    "roi = 'R0000-0107-0108'\n",
    "\n",
    "rois = g.rois(label='suite2p_registered')\n",
    "\n",
    "for r in rois.values()[0]:\n",
    "    if r.label == roi:\n",
    "        roi_obj = [r]"
   ]
  },
  {
   "cell_type": "markdown",
   "metadata": {},
   "source": [
    "## cdf example seaborn"
   ]
  },
  {
   "cell_type": "code",
   "execution_count": null,
   "metadata": {},
   "outputs": [],
   "source": [
    "# filter \n",
    "b = dfr.replace([np.inf, -np.inf], np.nan).dropna(subset=[\"spatial_information\"], how=\"all\")\n",
    "\n",
    "fig,ax = plt.subplots(1)\n",
    "for n,g in b.groupby(\"expt_grp\"):\n",
    "    sns.distplot(g.spatial_information,ax =ax,\n",
    "             kde_kws=dict(cumulative=True))\n",
    "plt.show()"
   ]
  }
 ],
 "metadata": {
  "kernelspec": {
   "display_name": "Python 2",
   "language": "python",
   "name": "python2"
  },
  "language_info": {
   "codemirror_mode": {
    "name": "ipython",
    "version": 2
   },
   "file_extension": ".py",
   "mimetype": "text/x-python",
   "name": "python",
   "nbconvert_exporter": "python",
   "pygments_lexer": "ipython2",
   "version": "2.7.16"
  }
 },
 "nbformat": 4,
 "nbformat_minor": 2
}
