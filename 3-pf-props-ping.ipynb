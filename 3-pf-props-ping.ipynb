{
 "cells": [
  {
   "cell_type": "markdown",
   "metadata": {},
   "source": [
    "# Notes"
   ]
  },
  {
   "cell_type": "markdown",
   "metadata": {},
   "source": [
    "This notebook was created to try pingouin stats package"
   ]
  },
  {
   "cell_type": "markdown",
   "metadata": {},
   "source": [
    "# Files"
   ]
  },
  {
   "cell_type": "code",
   "execution_count": 1,
   "metadata": {
    "ExecuteTime": {
     "end_time": "2019-09-13T20:42:51.800394Z",
     "start_time": "2019-09-13T20:42:51.665900Z"
    }
   },
   "outputs": [
    {
     "name": "stdout",
     "output_type": "stream",
     "text": [
      "big-df-by-expt.csv\n",
      "big-df-by-expt-with-stab.csv\n",
      "big-df-by-roi.csv\n",
      "control-mse.csv\n",
      "creb-mse.csv\n",
      "csv_backup\n",
      "decoded2020-all.csv\n",
      "decoded2020-place.csv\n",
      "decode-mse-10k.csv\n",
      "decode-mse-50-100-500-1000.csv\n",
      "df-by-expt-RF-SUP-DEEP.csv\n",
      "fig-list.csv\n",
      "old_csvs\n"
     ]
    }
   ],
   "source": [
    "! ls | grep csv"
   ]
  },
  {
   "cell_type": "markdown",
   "metadata": {},
   "source": [
    "# Initialization"
   ]
  },
  {
   "cell_type": "markdown",
   "metadata": {},
   "source": [
    "## standard variables and imports"
   ]
  },
  {
   "cell_type": "code",
   "execution_count": 3,
   "metadata": {
    "ExecuteTime": {
     "end_time": "2019-09-13T20:43:52.555210Z",
     "start_time": "2019-09-13T20:43:52.538966Z"
    },
    "code_folding": [
     0
    ]
   },
   "outputs": [
    {
     "ename": "NameError",
     "evalue": "name 'colors' is not defined",
     "output_type": "error",
     "traceback": [
      "\u001b[0;31m---------------------------------------------------------------------------\u001b[0m",
      "\u001b[0;31mNameError\u001b[0m                                 Traceback (most recent call last)",
      "\u001b[0;32m<ipython-input-3-eaad41aef521>\u001b[0m in \u001b[0;36m<module>\u001b[0;34m\u001b[0m\n\u001b[1;32m      2\u001b[0m \u001b[0;34m\u001b[0m\u001b[0m\n\u001b[1;32m      3\u001b[0m \u001b[0;31m# set seaborn pallette\u001b[0m\u001b[0;34m\u001b[0m\u001b[0;34m\u001b[0m\u001b[0;34m\u001b[0m\u001b[0m\n\u001b[0;32m----> 4\u001b[0;31m \u001b[0msns\u001b[0m\u001b[0;34m.\u001b[0m\u001b[0mset_palette\u001b[0m\u001b[0;34m(\u001b[0m\u001b[0mcolors\u001b[0m\u001b[0;34m)\u001b[0m\u001b[0;34m\u001b[0m\u001b[0;34m\u001b[0m\u001b[0m\n\u001b[0m\u001b[1;32m      5\u001b[0m \u001b[0msns\u001b[0m\u001b[0;34m.\u001b[0m\u001b[0mset_style\u001b[0m\u001b[0;34m(\u001b[0m\u001b[0;34m\"white\"\u001b[0m\u001b[0;34m)\u001b[0m\u001b[0;34m\u001b[0m\u001b[0;34m\u001b[0m\u001b[0m\n\u001b[1;32m      6\u001b[0m \u001b[0msns\u001b[0m\u001b[0;34m.\u001b[0m\u001b[0mset_style\u001b[0m\u001b[0;34m(\u001b[0m\u001b[0;34m\"ticks\"\u001b[0m\u001b[0;34m)\u001b[0m\u001b[0;34m\u001b[0m\u001b[0;34m\u001b[0m\u001b[0m\n",
      "\u001b[0;31mNameError\u001b[0m: name 'colors' is not defined"
     ]
    }
   ],
   "source": [
    "# removed creb imports b/c python3\n",
    "colors = \n",
    "\n",
    "# set seaborn pallette\n",
    "sns.set_palette(colors)\n",
    "sns.set_style(\"white\")\n",
    "sns.set_style(\"ticks\")\n",
    "sns.set_context(\"talk\")\n",
    "\n",
    "# stats\n",
    "%load_ext rpy2.ipython"
   ]
  },
  {
   "cell_type": "code",
   "execution_count": 4,
   "metadata": {},
   "outputs": [
    {
     "ename": "ModuleNotFoundError",
     "evalue": "No module named 'lab'",
     "output_type": "error",
     "traceback": [
      "\u001b[0;31m---------------------------------------------------------------------------\u001b[0m",
      "\u001b[0;31mModuleNotFoundError\u001b[0m                       Traceback (most recent call last)",
      "\u001b[0;32m<ipython-input-4-8f63c77b1a5d>\u001b[0m in \u001b[0;36m<module>\u001b[0;34m\u001b[0m\n\u001b[1;32m      1\u001b[0m \u001b[0msys\u001b[0m\u001b[0;34m.\u001b[0m\u001b[0mpath\u001b[0m\u001b[0;34m.\u001b[0m\u001b[0minsert\u001b[0m\u001b[0;34m(\u001b[0m\u001b[0;36m0\u001b[0m\u001b[0;34m,\u001b[0m \u001b[0;34m'/home/matt/code/analysis/mjd/'\u001b[0m\u001b[0;34m)\u001b[0m\u001b[0;34m\u001b[0m\u001b[0;34m\u001b[0m\u001b[0m\n\u001b[0;32m----> 2\u001b[0;31m \u001b[0;32mimport\u001b[0m \u001b[0mlab\u001b[0m\u001b[0;34m.\u001b[0m\u001b[0mmjd_scripts\u001b[0m\u001b[0;34m.\u001b[0m\u001b[0mpandas_helpers\u001b[0m \u001b[0;32mas\u001b[0m \u001b[0mmjd_pandas\u001b[0m\u001b[0;34m\u001b[0m\u001b[0;34m\u001b[0m\u001b[0m\n\u001b[0m",
      "\u001b[0;31mModuleNotFoundError\u001b[0m: No module named 'lab'"
     ]
    }
   ],
   "source": [
    "sys.path.insert(0, '/home/matt/code/analysis/mjd/')\n",
    "import lab.mjd_scripts.pandas_helpers as mjd_pandas"
   ]
  },
  {
   "cell_type": "markdown",
   "metadata": {},
   "source": [
    "## notebook variables, functions, imports"
   ]
  },
  {
   "cell_type": "code",
   "execution_count": 3,
   "metadata": {
    "ExecuteTime": {
     "end_time": "2019-09-13T20:43:55.244887Z",
     "start_time": "2019-09-13T20:43:55.237699Z"
    },
    "code_folding": []
   },
   "outputs": [],
   "source": [
    "# just for pcse\n",
    "import sys\n",
    "sys.path.insert(0, '/home/matt/code/analysis/analysis-scripts')\n",
    "import place_cell_data_save_expt as pcse\n",
    "import place_cell_data_save as pcs\n",
    "#import pandas_helpers as pd_help\n",
    "\n",
    "# variables for plotting \n",
    "activity_labels=['Number of place fields',\n",
    "      'Place field width',\n",
    "      'Specificity',\n",
    "      'Sensitivity',\n",
    "      'Sparsity',\n",
    "       'Place cell Fraction',\n",
    "       'Spatial information',\n",
    "       'Circular variance']\n",
    "\n",
    "keys=['n_place_fields',\n",
    "      'pf_width',\n",
    "      'specificity',\n",
    "      'sensitivity',\n",
    "      'sparsity',\n",
    "      'pc_percentage',\n",
    "       'spatial_information_pc',\n",
    "       'circular_variance_pc']"
   ]
  },
  {
   "cell_type": "markdown",
   "metadata": {},
   "source": [
    "## csv"
   ]
  },
  {
   "cell_type": "code",
   "execution_count": 9,
   "metadata": {},
   "outputs": [
    {
     "name": "stdout",
     "output_type": "stream",
     "text": [
      "(267, 40)\n",
      "['Unnamed: 0' 'mouseID' 'grp' 'trial_id' 'session' 'day' 'condition'\n",
      " 'session_day' 'startTime' 'experimentType' 'sensitivity' 'specificity'\n",
      " 'sparsity' 'pf_width' 'trans_auc' 'trans_amplitude' 'trans_duration'\n",
      " 'trans_frequency' 'trans_auc_nr' 'trans_amplitude_nr' 'trans_duration_nr'\n",
      " 'trans_frequency_nr' 'trans_auc_all' 'trans_amplitude_all'\n",
      " 'trans_duration_all' 'trans_frequency_all' 'circ_var' 'circ_var_p'\n",
      " 'spatial_information' 'n_place_fields' 'fraction_near_rads_8'\n",
      " 'fraction_near_norm_05' 'fraction_near_norm_10' 'lick_reward_fraction'\n",
      " 'anticipatory_licking' 'activity_centroid_reward_distance'\n",
      " 'centroid_reward_distance' 'pc_percentage' 'spatial_information_pc'\n",
      " 'circular_variance_pc']\n"
     ]
    }
   ],
   "source": [
    "dfr = pd.read_csv('big-df-by-roi.csv') # by roi\n",
    "df = pd.read_csv('big-df-by-expt.csv') # by expt\n",
    "\n",
    "df.drop(df.query('trial_id == 12813').index,inplace=True) # filter bad tial\n",
    "\n",
    "print(df.shape)\n",
    "print(df.columns.values)\n",
    "\n"
   ]
  },
  {
   "cell_type": "markdown",
   "metadata": {},
   "source": [
    "# Try stats"
   ]
  },
  {
   "cell_type": "code",
   "execution_count": 1,
   "metadata": {},
   "outputs": [],
   "source": [
    "import pingouin as pg"
   ]
  },
  {
   "cell_type": "markdown",
   "metadata": {},
   "source": [
    "## outlier"
   ]
  },
  {
   "cell_type": "code",
   "execution_count": 30,
   "metadata": {},
   "outputs": [
    {
     "data": {
      "text/plain": [
       "(1, 40)"
      ]
     },
     "execution_count": 30,
     "metadata": {},
     "output_type": "execute_result"
    }
   ],
   "source": [
    "df.query(\"pc_percentage <.05\").shape"
   ]
  },
  {
   "cell_type": "code",
   "execution_count": 25,
   "metadata": {},
   "outputs": [
    {
     "data": {
      "text/plain": [
       "(266, 40)"
      ]
     },
     "execution_count": 25,
     "metadata": {},
     "output_type": "execute_result"
    }
   ],
   "source": [
    "df_clean = df[~df.eval(\"pc_percentage <.05\")]"
   ]
  },
  {
   "cell_type": "markdown",
   "metadata": {},
   "source": [
    "## describe"
   ]
  },
  {
   "cell_type": "code",
   "execution_count": 19,
   "metadata": {},
   "outputs": [
    {
     "data": {
      "text/html": [
       "<div>\n",
       "<style scoped>\n",
       "    .dataframe tbody tr th:only-of-type {\n",
       "        vertical-align: middle;\n",
       "    }\n",
       "\n",
       "    .dataframe tbody tr th {\n",
       "        vertical-align: top;\n",
       "    }\n",
       "\n",
       "    .dataframe thead th {\n",
       "        text-align: right;\n",
       "    }\n",
       "</style>\n",
       "<table border=\"1\" class=\"dataframe\">\n",
       "  <thead>\n",
       "    <tr style=\"text-align: right;\">\n",
       "      <th></th>\n",
       "      <th>count</th>\n",
       "      <th>mean</th>\n",
       "      <th>std</th>\n",
       "      <th>min</th>\n",
       "      <th>25%</th>\n",
       "      <th>50%</th>\n",
       "      <th>75%</th>\n",
       "      <th>max</th>\n",
       "    </tr>\n",
       "    <tr>\n",
       "      <th>grp</th>\n",
       "      <th></th>\n",
       "      <th></th>\n",
       "      <th></th>\n",
       "      <th></th>\n",
       "      <th></th>\n",
       "      <th></th>\n",
       "      <th></th>\n",
       "      <th></th>\n",
       "    </tr>\n",
       "  </thead>\n",
       "  <tbody>\n",
       "    <tr>\n",
       "      <td>CREB</td>\n",
       "      <td>99.0</td>\n",
       "      <td>0.206888</td>\n",
       "      <td>0.042088</td>\n",
       "      <td>0.097643</td>\n",
       "      <td>0.175752</td>\n",
       "      <td>0.206226</td>\n",
       "      <td>0.238080</td>\n",
       "      <td>0.291829</td>\n",
       "    </tr>\n",
       "    <tr>\n",
       "      <td>Control</td>\n",
       "      <td>87.0</td>\n",
       "      <td>0.281673</td>\n",
       "      <td>0.063890</td>\n",
       "      <td>0.009434</td>\n",
       "      <td>0.246702</td>\n",
       "      <td>0.278302</td>\n",
       "      <td>0.325654</td>\n",
       "      <td>0.421053</td>\n",
       "    </tr>\n",
       "    <tr>\n",
       "      <td>dn-CREB</td>\n",
       "      <td>81.0</td>\n",
       "      <td>0.296479</td>\n",
       "      <td>0.062368</td>\n",
       "      <td>0.119048</td>\n",
       "      <td>0.282258</td>\n",
       "      <td>0.309859</td>\n",
       "      <td>0.342742</td>\n",
       "      <td>0.390728</td>\n",
       "    </tr>\n",
       "  </tbody>\n",
       "</table>\n",
       "</div>"
      ],
      "text/plain": [
       "         count      mean       std       min       25%       50%       75%  \\\n",
       "grp                                                                          \n",
       "CREB      99.0  0.206888  0.042088  0.097643  0.175752  0.206226  0.238080   \n",
       "Control   87.0  0.281673  0.063890  0.009434  0.246702  0.278302  0.325654   \n",
       "dn-CREB   81.0  0.296479  0.062368  0.119048  0.282258  0.309859  0.342742   \n",
       "\n",
       "              max  \n",
       "grp                \n",
       "CREB     0.291829  \n",
       "Control  0.421053  \n",
       "dn-CREB  0.390728  "
      ]
     },
     "execution_count": 19,
     "metadata": {},
     "output_type": "execute_result"
    }
   ],
   "source": [
    "df.groupby(\"grp\").pc_percentage.describe()"
   ]
  },
  {
   "cell_type": "code",
   "execution_count": 20,
   "metadata": {},
   "outputs": [
    {
     "data": {
      "text/plain": [
       "grp\n",
       "CREB       AxesSubplot(0.125,0.125;0.775x0.755)\n",
       "Control    AxesSubplot(0.125,0.125;0.775x0.755)\n",
       "dn-CREB    AxesSubplot(0.125,0.125;0.775x0.755)\n",
       "Name: pc_percentage, dtype: object"
      ]
     },
     "execution_count": 20,
     "metadata": {},
     "output_type": "execute_result"
    },
    {
     "data": {
      "image/png": "[encoded data removed]",
      "text/plain": [
       "<Figure size 432x288 with 1 Axes>"
      ]
     },
     "metadata": {},
     "output_type": "display_data"
    }
   ],
   "source": [
    "df.groupby(\"grp\").pc_percentage.hist()"
   ]
  },
  {
   "cell_type": "markdown",
   "metadata": {},
   "source": [
    "## parametric"
   ]
  },
  {
   "cell_type": "code",
   "execution_count": 12,
   "metadata": {},
   "outputs": [
    {
     "data": {
      "text/html": [
       "<div>\n",
       "<style scoped>\n",
       "    .dataframe tbody tr th:only-of-type {\n",
       "        vertical-align: middle;\n",
       "    }\n",
       "\n",
       "    .dataframe tbody tr th {\n",
       "        vertical-align: top;\n",
       "    }\n",
       "\n",
       "    .dataframe thead th {\n",
       "        text-align: right;\n",
       "    }\n",
       "</style>\n",
       "<table border=\"1\" class=\"dataframe\">\n",
       "  <thead>\n",
       "    <tr style=\"text-align: right;\">\n",
       "      <th></th>\n",
       "      <th>Source</th>\n",
       "      <th>ddof1</th>\n",
       "      <th>ddof2</th>\n",
       "      <th>F</th>\n",
       "      <th>p-unc</th>\n",
       "      <th>np2</th>\n",
       "    </tr>\n",
       "  </thead>\n",
       "  <tbody>\n",
       "    <tr>\n",
       "      <td>0</td>\n",
       "      <td>grp</td>\n",
       "      <td>2</td>\n",
       "      <td>264</td>\n",
       "      <td>67.477</td>\n",
       "      <td>2.137238e-24</td>\n",
       "      <td>0.338</td>\n",
       "    </tr>\n",
       "  </tbody>\n",
       "</table>\n",
       "</div>"
      ],
      "text/plain": [
       "  Source  ddof1  ddof2       F         p-unc    np2\n",
       "0    grp      2    264  67.477  2.137238e-24  0.338"
      ]
     },
     "execution_count": 12,
     "metadata": {},
     "output_type": "execute_result"
    }
   ],
   "source": [
    "pg.anova(data=df, between='grp', dv='pc_percentage')"
   ]
  },
  {
   "cell_type": "code",
   "execution_count": 13,
   "metadata": {},
   "outputs": [
    {
     "data": {
      "text/html": [
       "<div>\n",
       "<style scoped>\n",
       "    .dataframe tbody tr th:only-of-type {\n",
       "        vertical-align: middle;\n",
       "    }\n",
       "\n",
       "    .dataframe tbody tr th {\n",
       "        vertical-align: top;\n",
       "    }\n",
       "\n",
       "    .dataframe thead th {\n",
       "        text-align: right;\n",
       "    }\n",
       "</style>\n",
       "<table border=\"1\" class=\"dataframe\">\n",
       "  <thead>\n",
       "    <tr style=\"text-align: right;\">\n",
       "      <th></th>\n",
       "      <th>A</th>\n",
       "      <th>B</th>\n",
       "      <th>mean(A)</th>\n",
       "      <th>mean(B)</th>\n",
       "      <th>diff</th>\n",
       "      <th>se</th>\n",
       "      <th>tail</th>\n",
       "      <th>T</th>\n",
       "      <th>p-tukey</th>\n",
       "      <th>hedges</th>\n",
       "    </tr>\n",
       "  </thead>\n",
       "  <tbody>\n",
       "    <tr>\n",
       "      <td>0</td>\n",
       "      <td>CREB</td>\n",
       "      <td>Control</td>\n",
       "      <td>0.207</td>\n",
       "      <td>0.282</td>\n",
       "      <td>-0.075</td>\n",
       "      <td>0.008</td>\n",
       "      <td>two-sided</td>\n",
       "      <td>-9.291</td>\n",
       "      <td>0.001000</td>\n",
       "      <td>-1.360</td>\n",
       "    </tr>\n",
       "    <tr>\n",
       "      <td>1</td>\n",
       "      <td>CREB</td>\n",
       "      <td>dn-CREB</td>\n",
       "      <td>0.207</td>\n",
       "      <td>0.296</td>\n",
       "      <td>-0.090</td>\n",
       "      <td>0.008</td>\n",
       "      <td>two-sided</td>\n",
       "      <td>-10.918</td>\n",
       "      <td>0.001000</td>\n",
       "      <td>-1.629</td>\n",
       "    </tr>\n",
       "    <tr>\n",
       "      <td>2</td>\n",
       "      <td>Control</td>\n",
       "      <td>dn-CREB</td>\n",
       "      <td>0.282</td>\n",
       "      <td>0.296</td>\n",
       "      <td>-0.015</td>\n",
       "      <td>0.008</td>\n",
       "      <td>two-sided</td>\n",
       "      <td>-1.751</td>\n",
       "      <td>0.186972</td>\n",
       "      <td>-0.269</td>\n",
       "    </tr>\n",
       "  </tbody>\n",
       "</table>\n",
       "</div>"
      ],
      "text/plain": [
       "         A        B  mean(A)  mean(B)   diff     se       tail       T  \\\n",
       "0     CREB  Control    0.207    0.282 -0.075  0.008  two-sided  -9.291   \n",
       "1     CREB  dn-CREB    0.207    0.296 -0.090  0.008  two-sided -10.918   \n",
       "2  Control  dn-CREB    0.282    0.296 -0.015  0.008  two-sided  -1.751   \n",
       "\n",
       "    p-tukey  hedges  \n",
       "0  0.001000  -1.360  \n",
       "1  0.001000  -1.629  \n",
       "2  0.186972  -0.269  "
      ]
     },
     "execution_count": 13,
     "metadata": {},
     "output_type": "execute_result"
    }
   ],
   "source": [
    "pg.pairwise_tukey(data=df, between='grp', dv='pc_percentage')"
   ]
  },
  {
   "cell_type": "markdown",
   "metadata": {},
   "source": [
    "## non-parametric"
   ]
  },
  {
   "cell_type": "code",
   "execution_count": 14,
   "metadata": {},
   "outputs": [
    {
     "data": {
      "text/html": [
       "<div>\n",
       "<style scoped>\n",
       "    .dataframe tbody tr th:only-of-type {\n",
       "        vertical-align: middle;\n",
       "    }\n",
       "\n",
       "    .dataframe tbody tr th {\n",
       "        vertical-align: top;\n",
       "    }\n",
       "\n",
       "    .dataframe thead th {\n",
       "        text-align: right;\n",
       "    }\n",
       "</style>\n",
       "<table border=\"1\" class=\"dataframe\">\n",
       "  <thead>\n",
       "    <tr style=\"text-align: right;\">\n",
       "      <th></th>\n",
       "      <th>Source</th>\n",
       "      <th>ddof1</th>\n",
       "      <th>ddof2</th>\n",
       "      <th>F</th>\n",
       "      <th>p-unc</th>\n",
       "    </tr>\n",
       "  </thead>\n",
       "  <tbody>\n",
       "    <tr>\n",
       "      <td>0</td>\n",
       "      <td>grp</td>\n",
       "      <td>2</td>\n",
       "      <td>159.109</td>\n",
       "      <td>81.782</td>\n",
       "      <td>3.727277e-25</td>\n",
       "    </tr>\n",
       "  </tbody>\n",
       "</table>\n",
       "</div>"
      ],
      "text/plain": [
       "  Source  ddof1    ddof2       F         p-unc\n",
       "0    grp      2  159.109  81.782  3.727277e-25"
      ]
     },
     "execution_count": 14,
     "metadata": {},
     "output_type": "execute_result"
    }
   ],
   "source": [
    "pg.welch_anova(data=df, between='grp', dv='pc_percentage')"
   ]
  },
  {
   "cell_type": "code",
   "execution_count": 15,
   "metadata": {},
   "outputs": [
    {
     "data": {
      "text/html": [
       "<div>\n",
       "<style scoped>\n",
       "    .dataframe tbody tr th:only-of-type {\n",
       "        vertical-align: middle;\n",
       "    }\n",
       "\n",
       "    .dataframe tbody tr th {\n",
       "        vertical-align: top;\n",
       "    }\n",
       "\n",
       "    .dataframe thead th {\n",
       "        text-align: right;\n",
       "    }\n",
       "</style>\n",
       "<table border=\"1\" class=\"dataframe\">\n",
       "  <thead>\n",
       "    <tr style=\"text-align: right;\">\n",
       "      <th></th>\n",
       "      <th>A</th>\n",
       "      <th>B</th>\n",
       "      <th>mean(A)</th>\n",
       "      <th>mean(B)</th>\n",
       "      <th>diff</th>\n",
       "      <th>se</th>\n",
       "      <th>tail</th>\n",
       "      <th>T</th>\n",
       "      <th>df</th>\n",
       "      <th>pval</th>\n",
       "      <th>hedges</th>\n",
       "    </tr>\n",
       "  </thead>\n",
       "  <tbody>\n",
       "    <tr>\n",
       "      <td>0</td>\n",
       "      <td>CREB</td>\n",
       "      <td>Control</td>\n",
       "      <td>0.207</td>\n",
       "      <td>0.282</td>\n",
       "      <td>-0.075</td>\n",
       "      <td>0.006</td>\n",
       "      <td>two-sided</td>\n",
       "      <td>-9.289</td>\n",
       "      <td>145.527</td>\n",
       "      <td>0.001000</td>\n",
       "      <td>-1.360</td>\n",
       "    </tr>\n",
       "    <tr>\n",
       "      <td>1</td>\n",
       "      <td>CREB</td>\n",
       "      <td>dn-CREB</td>\n",
       "      <td>0.207</td>\n",
       "      <td>0.296</td>\n",
       "      <td>-0.090</td>\n",
       "      <td>0.006</td>\n",
       "      <td>two-sided</td>\n",
       "      <td>-11.035</td>\n",
       "      <td>135.379</td>\n",
       "      <td>0.001000</td>\n",
       "      <td>-1.646</td>\n",
       "    </tr>\n",
       "    <tr>\n",
       "      <td>2</td>\n",
       "      <td>Control</td>\n",
       "      <td>dn-CREB</td>\n",
       "      <td>0.282</td>\n",
       "      <td>0.296</td>\n",
       "      <td>-0.015</td>\n",
       "      <td>0.007</td>\n",
       "      <td>two-sided</td>\n",
       "      <td>-1.520</td>\n",
       "      <td>165.622</td>\n",
       "      <td>0.282524</td>\n",
       "      <td>-0.234</td>\n",
       "    </tr>\n",
       "  </tbody>\n",
       "</table>\n",
       "</div>"
      ],
      "text/plain": [
       "         A        B  mean(A)  mean(B)   diff     se       tail       T  \\\n",
       "0     CREB  Control    0.207    0.282 -0.075  0.006  two-sided  -9.289   \n",
       "1     CREB  dn-CREB    0.207    0.296 -0.090  0.006  two-sided -11.035   \n",
       "2  Control  dn-CREB    0.282    0.296 -0.015  0.007  two-sided  -1.520   \n",
       "\n",
       "        df      pval  hedges  \n",
       "0  145.527  0.001000  -1.360  \n",
       "1  135.379  0.001000  -1.646  \n",
       "2  165.622  0.282524  -0.234  "
      ]
     },
     "execution_count": 15,
     "metadata": {},
     "output_type": "execute_result"
    }
   ],
   "source": [
    "pg.pairwise_gameshowell(data=df, between='grp', dv='pc_percentage')"
   ]
  },
  {
   "cell_type": "markdown",
   "metadata": {},
   "source": [
    "# WeakStrong"
   ]
  },
  {
   "cell_type": "code",
   "execution_count": 19,
   "metadata": {},
   "outputs": [],
   "source": [
    "df = pd.read_csv('WeakStrong-Session1-thresh1.0-multi8.csv')\n",
    "df_s = df.query(\"sess1_multi =='strong'\")\n",
    "df_w = df.query(\"sess1_multi =='weak'\")"
   ]
  },
  {
   "cell_type": "code",
   "execution_count": 25,
   "metadata": {},
   "outputs": [],
   "source": [
    "\n",
    "key = 'spatial_information'\n",
    "groupby = ['grp','condition']"
   ]
  },
  {
   "cell_type": "code",
   "execution_count": 29,
   "metadata": {},
   "outputs": [
    {
     "data": {
      "text/plain": [
       "array(['Control', 'CREB', 'dn-CREB'], dtype=object)"
      ]
     },
     "execution_count": 29,
     "metadata": {},
     "output_type": "execute_result"
    }
   ],
   "source": [
    "df_s['grp'].unique()\n"
   ]
  },
  {
   "cell_type": "code",
   "execution_count": 41,
   "metadata": {},
   "outputs": [],
   "source": []
  },
  {
   "cell_type": "code",
   "execution_count": 33,
   "metadata": {},
   "outputs": [
    {
     "data": {
      "text/html": [
       "<div>\n",
       "<style scoped>\n",
       "    .dataframe tbody tr th:only-of-type {\n",
       "        vertical-align: middle;\n",
       "    }\n",
       "\n",
       "    .dataframe tbody tr th {\n",
       "        vertical-align: top;\n",
       "    }\n",
       "\n",
       "    .dataframe thead th {\n",
       "        text-align: right;\n",
       "    }\n",
       "</style>\n",
       "<table border=\"1\" class=\"dataframe\">\n",
       "  <thead>\n",
       "    <tr style=\"text-align: right;\">\n",
       "      <th></th>\n",
       "      <th>W</th>\n",
       "      <th>pval</th>\n",
       "      <th>equal_var</th>\n",
       "    </tr>\n",
       "  </thead>\n",
       "  <tbody>\n",
       "    <tr>\n",
       "      <td>levene</td>\n",
       "      <td>5.611</td>\n",
       "      <td>0.017898</td>\n",
       "      <td>False</td>\n",
       "    </tr>\n",
       "  </tbody>\n",
       "</table>\n",
       "</div>"
      ],
      "text/plain": [
       "            W      pval  equal_var\n",
       "levene  5.611  0.017898      False"
      ]
     },
     "execution_count": 33,
     "metadata": {},
     "output_type": "execute_result"
    }
   ],
   "source": [
    "pg.homoscedasticity(df_s, dv=key, group=\"condition\")"
   ]
  },
  {
   "cell_type": "code",
   "execution_count": 44,
   "metadata": {},
   "outputs": [],
   "source": [
    "a = [g.values for n,g in df_s.groupby(groupby)[key]]\n",
    "\n",
    "pg.homoscedasticity(a)"
   ]
  },
  {
   "cell_type": "code",
   "execution_count": 46,
   "metadata": {},
   "outputs": [
    {
     "data": {
      "text/html": [
       "<div>\n",
       "<style scoped>\n",
       "    .dataframe tbody tr th:only-of-type {\n",
       "        vertical-align: middle;\n",
       "    }\n",
       "\n",
       "    .dataframe tbody tr th {\n",
       "        vertical-align: top;\n",
       "    }\n",
       "\n",
       "    .dataframe thead th {\n",
       "        text-align: right;\n",
       "    }\n",
       "</style>\n",
       "<table border=\"1\" class=\"dataframe\">\n",
       "  <thead>\n",
       "    <tr style=\"text-align: right;\">\n",
       "      <th></th>\n",
       "      <th>W</th>\n",
       "      <th>pval</th>\n",
       "      <th>equal_var</th>\n",
       "    </tr>\n",
       "  </thead>\n",
       "  <tbody>\n",
       "    <tr>\n",
       "      <td>levene</td>\n",
       "      <td>4.337</td>\n",
       "      <td>0.000615</td>\n",
       "      <td>False</td>\n",
       "    </tr>\n",
       "  </tbody>\n",
       "</table>\n",
       "</div>"
      ],
      "text/plain": [
       "            W      pval  equal_var\n",
       "levene  4.337  0.000615      False"
      ]
     },
     "execution_count": 46,
     "metadata": {},
     "output_type": "execute_result"
    }
   ],
   "source": [
    "stats"
   ]
  },
  {
   "cell_type": "code",
   "execution_count": 24,
   "metadata": {},
   "outputs": [
    {
     "data": {
      "text/html": [
       "<div>\n",
       "<style scoped>\n",
       "    .dataframe tbody tr th:only-of-type {\n",
       "        vertical-align: middle;\n",
       "    }\n",
       "\n",
       "    .dataframe tbody tr th {\n",
       "        vertical-align: top;\n",
       "    }\n",
       "\n",
       "    .dataframe thead th {\n",
       "        text-align: right;\n",
       "    }\n",
       "</style>\n",
       "<table border=\"1\" class=\"dataframe\">\n",
       "  <thead>\n",
       "    <tr style=\"text-align: right;\">\n",
       "      <th></th>\n",
       "      <th>Source</th>\n",
       "      <th>SS</th>\n",
       "      <th>DF</th>\n",
       "      <th>MS</th>\n",
       "      <th>F</th>\n",
       "      <th>p-unc</th>\n",
       "      <th>np2</th>\n",
       "    </tr>\n",
       "  </thead>\n",
       "  <tbody>\n",
       "    <tr>\n",
       "      <td>0</td>\n",
       "      <td>grp</td>\n",
       "      <td>7.168</td>\n",
       "      <td>2.0</td>\n",
       "      <td>3.584</td>\n",
       "      <td>6.122</td>\n",
       "      <td>2.261491e-03</td>\n",
       "      <td>0.010</td>\n",
       "    </tr>\n",
       "    <tr>\n",
       "      <td>1</td>\n",
       "      <td>condition</td>\n",
       "      <td>37.908</td>\n",
       "      <td>1.0</td>\n",
       "      <td>37.908</td>\n",
       "      <td>64.747</td>\n",
       "      <td>1.984892e-15</td>\n",
       "      <td>0.050</td>\n",
       "    </tr>\n",
       "    <tr>\n",
       "      <td>2</td>\n",
       "      <td>grp * condition</td>\n",
       "      <td>5.030</td>\n",
       "      <td>2.0</td>\n",
       "      <td>2.515</td>\n",
       "      <td>4.295</td>\n",
       "      <td>1.383507e-02</td>\n",
       "      <td>0.007</td>\n",
       "    </tr>\n",
       "    <tr>\n",
       "      <td>3</td>\n",
       "      <td>Residual</td>\n",
       "      <td>722.477</td>\n",
       "      <td>1234.0</td>\n",
       "      <td>0.585</td>\n",
       "      <td>NaN</td>\n",
       "      <td>NaN</td>\n",
       "      <td>NaN</td>\n",
       "    </tr>\n",
       "  </tbody>\n",
       "</table>\n",
       "</div>"
      ],
      "text/plain": [
       "            Source       SS      DF      MS       F         p-unc    np2\n",
       "0              grp    7.168     2.0   3.584   6.122  2.261491e-03  0.010\n",
       "1        condition   37.908     1.0  37.908  64.747  1.984892e-15  0.050\n",
       "2  grp * condition    5.030     2.0   2.515   4.295  1.383507e-02  0.007\n",
       "3         Residual  722.477  1234.0   0.585     NaN           NaN    NaN"
      ]
     },
     "execution_count": 24,
     "metadata": {},
     "output_type": "execute_result"
    }
   ],
   "source": [
    "\n",
    "pg.anova(data=df_w, between=groupby, dv=key)"
   ]
  },
  {
   "cell_type": "code",
   "execution_count": 23,
   "metadata": {},
   "outputs": [
    {
     "data": {
      "text/html": [
       "<div>\n",
       "<style scoped>\n",
       "    .dataframe tbody tr th:only-of-type {\n",
       "        vertical-align: middle;\n",
       "    }\n",
       "\n",
       "    .dataframe tbody tr th {\n",
       "        vertical-align: top;\n",
       "    }\n",
       "\n",
       "    .dataframe thead th {\n",
       "        text-align: right;\n",
       "    }\n",
       "</style>\n",
       "<table border=\"1\" class=\"dataframe\">\n",
       "  <thead>\n",
       "    <tr style=\"text-align: right;\">\n",
       "      <th></th>\n",
       "      <th>A</th>\n",
       "      <th>B</th>\n",
       "      <th>mean(A)</th>\n",
       "      <th>mean(B)</th>\n",
       "      <th>diff</th>\n",
       "      <th>se</th>\n",
       "      <th>tail</th>\n",
       "      <th>T</th>\n",
       "      <th>p-tukey</th>\n",
       "      <th>hedges</th>\n",
       "    </tr>\n",
       "  </thead>\n",
       "  <tbody>\n",
       "    <tr>\n",
       "      <td>0</td>\n",
       "      <td>CREB</td>\n",
       "      <td>Control</td>\n",
       "      <td>1.975</td>\n",
       "      <td>1.587</td>\n",
       "      <td>0.388</td>\n",
       "      <td>0.053</td>\n",
       "      <td>two-sided</td>\n",
       "      <td>7.287</td>\n",
       "      <td>0.001</td>\n",
       "      <td>0.472</td>\n",
       "    </tr>\n",
       "    <tr>\n",
       "      <td>1</td>\n",
       "      <td>CREB</td>\n",
       "      <td>dn-CREB</td>\n",
       "      <td>1.975</td>\n",
       "      <td>1.964</td>\n",
       "      <td>0.011</td>\n",
       "      <td>0.046</td>\n",
       "      <td>two-sided</td>\n",
       "      <td>0.237</td>\n",
       "      <td>0.900</td>\n",
       "      <td>0.013</td>\n",
       "    </tr>\n",
       "    <tr>\n",
       "      <td>2</td>\n",
       "      <td>Control</td>\n",
       "      <td>dn-CREB</td>\n",
       "      <td>1.587</td>\n",
       "      <td>1.964</td>\n",
       "      <td>-0.377</td>\n",
       "      <td>0.050</td>\n",
       "      <td>two-sided</td>\n",
       "      <td>-7.528</td>\n",
       "      <td>0.001</td>\n",
       "      <td>-0.458</td>\n",
       "    </tr>\n",
       "  </tbody>\n",
       "</table>\n",
       "</div>"
      ],
      "text/plain": [
       "         A        B  mean(A)  mean(B)   diff     se       tail      T  \\\n",
       "0     CREB  Control    1.975    1.587  0.388  0.053  two-sided  7.287   \n",
       "1     CREB  dn-CREB    1.975    1.964  0.011  0.046  two-sided  0.237   \n",
       "2  Control  dn-CREB    1.587    1.964 -0.377  0.050  two-sided -7.528   \n",
       "\n",
       "   p-tukey  hedges  \n",
       "0    0.001   0.472  \n",
       "1    0.900   0.013  \n",
       "2    0.001  -0.458  "
      ]
     },
     "execution_count": 23,
     "metadata": {},
     "output_type": "execute_result"
    }
   ],
   "source": [
    "pg.pairwise_tukey(\n",
    "    data=df_s.query(\"condition=='2'\"), between='grp', dv='spatial_information')"
   ]
  },
  {
   "cell_type": "code",
   "execution_count": null,
   "metadata": {},
   "outputs": [],
   "source": []
  }
 ],
 "metadata": {
  "kernelspec": {
   "display_name": "analysis",
   "language": "python",
   "name": "analysis"
  },
  "language_info": {
   "codemirror_mode": {
    "name": "ipython",
    "version": 3
   },
   "file_extension": ".py",
   "mimetype": "text/x-python",
   "name": "python",
   "nbconvert_exporter": "python",
   "pygments_lexer": "ipython3",
   "version": "3.7.4"
  }
 },
 "nbformat": 4,
 "nbformat_minor": 2
}
