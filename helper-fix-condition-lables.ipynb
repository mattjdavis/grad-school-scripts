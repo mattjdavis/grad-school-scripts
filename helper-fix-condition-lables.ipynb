{
 "cells": [
  {
   "cell_type": "markdown",
   "metadata": {
    "toc": true
   },
   "source": [
    "<h1>Table of Contents<span class=\"tocSkip\"></span></h1>\n",
    "<div class=\"toc\"><ul class=\"toc-item\"><li><span><a href=\"#find-mislabels\" data-toc-modified-id=\"find-mislabels-1\"><span class=\"toc-item-num\">1&nbsp;&nbsp;</span>find mislabels</a></span></li><li><span><a href=\"#grab-bad-trials\" data-toc-modified-id=\"grab-bad-trials-2\"><span class=\"toc-item-num\">2&nbsp;&nbsp;</span>grab bad trials</a></span></li><li><span><a href=\"#run-update-script\" data-toc-modified-id=\"run-update-script-3\"><span class=\"toc-item-num\">3&nbsp;&nbsp;</span>run update script</a></span></li><li><span><a href=\"#changed-trials\" data-toc-modified-id=\"changed-trials-4\"><span class=\"toc-item-num\">4&nbsp;&nbsp;</span>changed trials</a></span></li></ul></div>"
   ]
  },
  {
   "cell_type": "code",
   "execution_count": 137,
   "metadata": {
    "ExecuteTime": {
     "end_time": "2019-07-21T19:36:19.150373Z",
     "start_time": "2019-07-21T19:35:55.201221Z"
    }
   },
   "outputs": [
    {
     "name": "stdout",
     "output_type": "stream",
     "text": [
      "LOADED EXPERIMENT GROUPS: CREB,dn-CREB,Control\n",
      "Using filter...None\n"
     ]
    }
   ],
   "source": [
    "exptGrps,roi_filters = creb.load_creb_experiments(filter_type=None) "
   ]
  },
  {
   "cell_type": "code",
   "execution_count": 138,
   "metadata": {
    "ExecuteTime": {
     "end_time": "2019-07-21T19:36:54.784040Z",
     "start_time": "2019-07-21T19:36:54.761466Z"
    },
    "scrolled": true
   },
   "outputs": [],
   "source": [
    "days=[]\n",
    "mouse=[]\n",
    "sessions=[]\n",
    "conditions=[]\n",
    "tis=[]\n",
    "bp=[]\n",
    "\n",
    "for e in exptGrps[0]:\n",
    "    days.append(e.get('day'))\n",
    "    mouse.append(e.parent.get('mouseID'))\n",
    "    sessions.append(e.get('session'))\n",
    "    conditions.append(e.get('condition'))\n",
    "    tis.append(e.get('trial_id'))\n",
    "    bp.append(e.find('trial').behaviorDataPath())\n",
    "    \n",
    "    \n",
    "df = pd.DataFrame(zip(mouse,conditions,days,sessions,tis,bp), \n",
    "                  columns=['mouseID','condition','day','session','trialID','bp'])\n",
    "\n",
    "# add condition day\n",
    "df[\"condition_day\"] = df[\"condition\"] + \"_\" + df[\"day\"]"
   ]
  },
  {
   "cell_type": "markdown",
   "metadata": {},
   "source": [
    "# find mislabels"
   ]
  },
  {
   "cell_type": "code",
   "execution_count": 139,
   "metadata": {
    "ExecuteTime": {
     "end_time": "2019-07-21T19:36:57.803433Z",
     "start_time": "2019-07-21T19:36:57.769716Z"
    }
   },
   "outputs": [
    {
     "data": {
      "text/html": [
       "<div>\n",
       "<style scoped>\n",
       "    .dataframe tbody tr th:only-of-type {\n",
       "        vertical-align: middle;\n",
       "    }\n",
       "\n",
       "    .dataframe tbody tr th {\n",
       "        vertical-align: top;\n",
       "    }\n",
       "\n",
       "    .dataframe thead th {\n",
       "        text-align: right;\n",
       "    }\n",
       "</style>\n",
       "<table border=\"1\" class=\"dataframe\">\n",
       "  <thead>\n",
       "    <tr style=\"text-align: right;\">\n",
       "      <th></th>\n",
       "      <th></th>\n",
       "      <th>condition</th>\n",
       "      <th>day</th>\n",
       "      <th>session</th>\n",
       "      <th>trialID</th>\n",
       "      <th>bp</th>\n",
       "    </tr>\n",
       "    <tr>\n",
       "      <th>condition_day</th>\n",
       "      <th>mouseID</th>\n",
       "      <th></th>\n",
       "      <th></th>\n",
       "      <th></th>\n",
       "      <th></th>\n",
       "      <th></th>\n",
       "    </tr>\n",
       "  </thead>\n",
       "  <tbody>\n",
       "    <tr>\n",
       "      <th rowspan=\"5\" valign=\"top\">1_1</th>\n",
       "      <th>mjd500</th>\n",
       "      <td>4</td>\n",
       "      <td>4</td>\n",
       "      <td>4</td>\n",
       "      <td>4</td>\n",
       "      <td>4</td>\n",
       "    </tr>\n",
       "    <tr>\n",
       "      <th>mjd503</th>\n",
       "      <td>3</td>\n",
       "      <td>3</td>\n",
       "      <td>3</td>\n",
       "      <td>3</td>\n",
       "      <td>3</td>\n",
       "    </tr>\n",
       "    <tr>\n",
       "      <th>mjd511</th>\n",
       "      <td>3</td>\n",
       "      <td>3</td>\n",
       "      <td>3</td>\n",
       "      <td>3</td>\n",
       "      <td>3</td>\n",
       "    </tr>\n",
       "    <tr>\n",
       "      <th>mjd535</th>\n",
       "      <td>3</td>\n",
       "      <td>3</td>\n",
       "      <td>3</td>\n",
       "      <td>3</td>\n",
       "      <td>3</td>\n",
       "    </tr>\n",
       "    <tr>\n",
       "      <th>mjd537</th>\n",
       "      <td>3</td>\n",
       "      <td>3</td>\n",
       "      <td>3</td>\n",
       "      <td>3</td>\n",
       "      <td>3</td>\n",
       "    </tr>\n",
       "    <tr>\n",
       "      <th rowspan=\"5\" valign=\"top\">1_2</th>\n",
       "      <th>mjd500</th>\n",
       "      <td>2</td>\n",
       "      <td>2</td>\n",
       "      <td>2</td>\n",
       "      <td>2</td>\n",
       "      <td>2</td>\n",
       "    </tr>\n",
       "    <tr>\n",
       "      <th>mjd503</th>\n",
       "      <td>3</td>\n",
       "      <td>3</td>\n",
       "      <td>3</td>\n",
       "      <td>3</td>\n",
       "      <td>3</td>\n",
       "    </tr>\n",
       "    <tr>\n",
       "      <th>mjd511</th>\n",
       "      <td>3</td>\n",
       "      <td>3</td>\n",
       "      <td>3</td>\n",
       "      <td>3</td>\n",
       "      <td>3</td>\n",
       "    </tr>\n",
       "    <tr>\n",
       "      <th>mjd535</th>\n",
       "      <td>3</td>\n",
       "      <td>3</td>\n",
       "      <td>3</td>\n",
       "      <td>3</td>\n",
       "      <td>3</td>\n",
       "    </tr>\n",
       "    <tr>\n",
       "      <th>mjd537</th>\n",
       "      <td>3</td>\n",
       "      <td>3</td>\n",
       "      <td>3</td>\n",
       "      <td>3</td>\n",
       "      <td>3</td>\n",
       "    </tr>\n",
       "    <tr>\n",
       "      <th rowspan=\"5\" valign=\"top\">1_3</th>\n",
       "      <th>mjd500</th>\n",
       "      <td>3</td>\n",
       "      <td>3</td>\n",
       "      <td>3</td>\n",
       "      <td>3</td>\n",
       "      <td>3</td>\n",
       "    </tr>\n",
       "    <tr>\n",
       "      <th>mjd503</th>\n",
       "      <td>2</td>\n",
       "      <td>2</td>\n",
       "      <td>2</td>\n",
       "      <td>2</td>\n",
       "      <td>2</td>\n",
       "    </tr>\n",
       "    <tr>\n",
       "      <th>mjd511</th>\n",
       "      <td>3</td>\n",
       "      <td>3</td>\n",
       "      <td>3</td>\n",
       "      <td>3</td>\n",
       "      <td>3</td>\n",
       "    </tr>\n",
       "    <tr>\n",
       "      <th>mjd535</th>\n",
       "      <td>3</td>\n",
       "      <td>3</td>\n",
       "      <td>3</td>\n",
       "      <td>3</td>\n",
       "      <td>3</td>\n",
       "    </tr>\n",
       "    <tr>\n",
       "      <th>mjd537</th>\n",
       "      <td>3</td>\n",
       "      <td>3</td>\n",
       "      <td>3</td>\n",
       "      <td>3</td>\n",
       "      <td>3</td>\n",
       "    </tr>\n",
       "    <tr>\n",
       "      <th rowspan=\"5\" valign=\"top\">2_4</th>\n",
       "      <th>mjd500</th>\n",
       "      <td>3</td>\n",
       "      <td>3</td>\n",
       "      <td>3</td>\n",
       "      <td>3</td>\n",
       "      <td>3</td>\n",
       "    </tr>\n",
       "    <tr>\n",
       "      <th>mjd503</th>\n",
       "      <td>3</td>\n",
       "      <td>3</td>\n",
       "      <td>3</td>\n",
       "      <td>3</td>\n",
       "      <td>3</td>\n",
       "    </tr>\n",
       "    <tr>\n",
       "      <th>mjd511</th>\n",
       "      <td>3</td>\n",
       "      <td>3</td>\n",
       "      <td>3</td>\n",
       "      <td>3</td>\n",
       "      <td>3</td>\n",
       "    </tr>\n",
       "    <tr>\n",
       "      <th>mjd535</th>\n",
       "      <td>3</td>\n",
       "      <td>3</td>\n",
       "      <td>3</td>\n",
       "      <td>3</td>\n",
       "      <td>3</td>\n",
       "    </tr>\n",
       "    <tr>\n",
       "      <th>mjd537</th>\n",
       "      <td>3</td>\n",
       "      <td>3</td>\n",
       "      <td>3</td>\n",
       "      <td>3</td>\n",
       "      <td>3</td>\n",
       "    </tr>\n",
       "    <tr>\n",
       "      <th rowspan=\"5\" valign=\"top\">2_5</th>\n",
       "      <th>mjd500</th>\n",
       "      <td>3</td>\n",
       "      <td>3</td>\n",
       "      <td>3</td>\n",
       "      <td>3</td>\n",
       "      <td>3</td>\n",
       "    </tr>\n",
       "    <tr>\n",
       "      <th>mjd503</th>\n",
       "      <td>2</td>\n",
       "      <td>2</td>\n",
       "      <td>2</td>\n",
       "      <td>2</td>\n",
       "      <td>2</td>\n",
       "    </tr>\n",
       "    <tr>\n",
       "      <th>mjd511</th>\n",
       "      <td>3</td>\n",
       "      <td>3</td>\n",
       "      <td>3</td>\n",
       "      <td>3</td>\n",
       "      <td>3</td>\n",
       "    </tr>\n",
       "    <tr>\n",
       "      <th>mjd535</th>\n",
       "      <td>3</td>\n",
       "      <td>3</td>\n",
       "      <td>3</td>\n",
       "      <td>3</td>\n",
       "      <td>3</td>\n",
       "    </tr>\n",
       "    <tr>\n",
       "      <th>mjd537</th>\n",
       "      <td>3</td>\n",
       "      <td>3</td>\n",
       "      <td>3</td>\n",
       "      <td>3</td>\n",
       "      <td>3</td>\n",
       "    </tr>\n",
       "    <tr>\n",
       "      <th rowspan=\"5\" valign=\"top\">2_6</th>\n",
       "      <th>mjd500</th>\n",
       "      <td>3</td>\n",
       "      <td>3</td>\n",
       "      <td>3</td>\n",
       "      <td>3</td>\n",
       "      <td>3</td>\n",
       "    </tr>\n",
       "    <tr>\n",
       "      <th>mjd503</th>\n",
       "      <td>3</td>\n",
       "      <td>3</td>\n",
       "      <td>3</td>\n",
       "      <td>3</td>\n",
       "      <td>3</td>\n",
       "    </tr>\n",
       "    <tr>\n",
       "      <th>mjd511</th>\n",
       "      <td>3</td>\n",
       "      <td>3</td>\n",
       "      <td>3</td>\n",
       "      <td>3</td>\n",
       "      <td>3</td>\n",
       "    </tr>\n",
       "    <tr>\n",
       "      <th>mjd535</th>\n",
       "      <td>3</td>\n",
       "      <td>3</td>\n",
       "      <td>3</td>\n",
       "      <td>3</td>\n",
       "      <td>3</td>\n",
       "    </tr>\n",
       "    <tr>\n",
       "      <th>mjd537</th>\n",
       "      <td>3</td>\n",
       "      <td>3</td>\n",
       "      <td>3</td>\n",
       "      <td>3</td>\n",
       "      <td>3</td>\n",
       "    </tr>\n",
       "  </tbody>\n",
       "</table>\n",
       "</div>"
      ],
      "text/plain": [
       "                       condition  day  session  trialID  bp\n",
       "condition_day mouseID                                      \n",
       "1_1           mjd500           4    4        4        4   4\n",
       "              mjd503           3    3        3        3   3\n",
       "              mjd511           3    3        3        3   3\n",
       "              mjd535           3    3        3        3   3\n",
       "              mjd537           3    3        3        3   3\n",
       "1_2           mjd500           2    2        2        2   2\n",
       "              mjd503           3    3        3        3   3\n",
       "              mjd511           3    3        3        3   3\n",
       "              mjd535           3    3        3        3   3\n",
       "              mjd537           3    3        3        3   3\n",
       "1_3           mjd500           3    3        3        3   3\n",
       "              mjd503           2    2        2        2   2\n",
       "              mjd511           3    3        3        3   3\n",
       "              mjd535           3    3        3        3   3\n",
       "              mjd537           3    3        3        3   3\n",
       "2_4           mjd500           3    3        3        3   3\n",
       "              mjd503           3    3        3        3   3\n",
       "              mjd511           3    3        3        3   3\n",
       "              mjd535           3    3        3        3   3\n",
       "              mjd537           3    3        3        3   3\n",
       "2_5           mjd500           3    3        3        3   3\n",
       "              mjd503           2    2        2        2   2\n",
       "              mjd511           3    3        3        3   3\n",
       "              mjd535           3    3        3        3   3\n",
       "              mjd537           3    3        3        3   3\n",
       "2_6           mjd500           3    3        3        3   3\n",
       "              mjd503           3    3        3        3   3\n",
       "              mjd511           3    3        3        3   3\n",
       "              mjd535           3    3        3        3   3\n",
       "              mjd537           3    3        3        3   3"
      ]
     },
     "execution_count": 139,
     "metadata": {},
     "output_type": "execute_result"
    }
   ],
   "source": [
    "\n",
    "df.groupby([\"condition_day\",\"mouseID\"]).count()"
   ]
  },
  {
   "cell_type": "markdown",
   "metadata": {},
   "source": [
    "# grab bad trials"
   ]
  },
  {
   "cell_type": "code",
   "execution_count": 134,
   "metadata": {
    "ExecuteTime": {
     "end_time": "2019-07-21T19:34:19.356396Z",
     "start_time": "2019-07-21T19:34:19.332134Z"
    }
   },
   "outputs": [
    {
     "data": {
      "text/html": [
       "<div>\n",
       "<style scoped>\n",
       "    .dataframe tbody tr th:only-of-type {\n",
       "        vertical-align: middle;\n",
       "    }\n",
       "\n",
       "    .dataframe tbody tr th {\n",
       "        vertical-align: top;\n",
       "    }\n",
       "\n",
       "    .dataframe thead th {\n",
       "        text-align: right;\n",
       "    }\n",
       "</style>\n",
       "<table border=\"1\" class=\"dataframe\">\n",
       "  <thead>\n",
       "    <tr style=\"text-align: right;\">\n",
       "      <th></th>\n",
       "      <th>mouseID</th>\n",
       "      <th>condition</th>\n",
       "      <th>day</th>\n",
       "      <th>session</th>\n",
       "      <th>trialID</th>\n",
       "      <th>bp</th>\n",
       "      <th>condition_day</th>\n",
       "    </tr>\n",
       "  </thead>\n",
       "  <tbody>\n",
       "    <tr>\n",
       "      <th>79</th>\n",
       "      <td>mjd535</td>\n",
       "      <td>1</td>\n",
       "      <td>4</td>\n",
       "      <td>1</td>\n",
       "      <td>13207</td>\n",
       "      <td>/home/matt/creb/behavior/data/mjd535/mjd535_20...</td>\n",
       "      <td>1_4</td>\n",
       "    </tr>\n",
       "    <tr>\n",
       "      <th>80</th>\n",
       "      <td>mjd535</td>\n",
       "      <td>1</td>\n",
       "      <td>4</td>\n",
       "      <td>2</td>\n",
       "      <td>13206</td>\n",
       "      <td>/home/matt/creb/behavior/data/mjd535/mjd535_20...</td>\n",
       "      <td>1_4</td>\n",
       "    </tr>\n",
       "    <tr>\n",
       "      <th>81</th>\n",
       "      <td>mjd535</td>\n",
       "      <td>1</td>\n",
       "      <td>4</td>\n",
       "      <td>3</td>\n",
       "      <td>13205</td>\n",
       "      <td>/home/matt/creb/behavior/data/mjd535/mjd535_20...</td>\n",
       "      <td>1_4</td>\n",
       "    </tr>\n",
       "  </tbody>\n",
       "</table>\n",
       "</div>"
      ],
      "text/plain": [
       "   mouseID condition day session trialID  \\\n",
       "79  mjd535         1   4       1   13207   \n",
       "80  mjd535         1   4       2   13206   \n",
       "81  mjd535         1   4       3   13205   \n",
       "\n",
       "                                                   bp condition_day  \n",
       "79  /home/matt/creb/behavior/data/mjd535/mjd535_20...           1_4  \n",
       "80  /home/matt/creb/behavior/data/mjd535/mjd535_20...           1_4  \n",
       "81  /home/matt/creb/behavior/data/mjd535/mjd535_20...           1_4  "
      ]
     },
     "execution_count": 134,
     "metadata": {},
     "output_type": "execute_result"
    }
   ],
   "source": [
    "to_change = df.loc[(df[\"condition\"]=='1') & (df[\"day\"]=='4')] # & (df[\"mouseID\"]=='mjd535')]\n",
    "to_change"
   ]
  },
  {
   "cell_type": "code",
   "execution_count": 135,
   "metadata": {
    "ExecuteTime": {
     "end_time": "2019-07-21T19:34:25.933410Z",
     "start_time": "2019-07-21T19:34:25.924221Z"
    }
   },
   "outputs": [
    {
     "data": {
      "text/plain": [
       "array(['/home/matt/creb/behavior/data/mjd535/mjd535_20180621113148.pkl',\n",
       "       '/home/matt/creb/behavior/data/mjd535/mjd535_20180621130639.pkl',\n",
       "       '/home/matt/creb/behavior/data/mjd535/mjd535_20180621141259.pkl'],\n",
       "      dtype=object)"
      ]
     },
     "execution_count": 135,
     "metadata": {},
     "output_type": "execute_result"
    }
   ],
   "source": [
    "to_change.bp.values"
   ]
  },
  {
   "cell_type": "markdown",
   "metadata": {
    "ExecuteTime": {
     "end_time": "2019-07-21T19:15:38.160689Z",
     "start_time": "2019-07-21T19:15:38.155937Z"
    }
   },
   "source": [
    "# run update script"
   ]
  },
  {
   "cell_type": "code",
   "execution_count": 136,
   "metadata": {
    "ExecuteTime": {
     "end_time": "2019-07-21T19:35:50.381133Z",
     "start_time": "2019-07-21T19:35:42.644114Z"
    }
   },
   "outputs": [
    {
     "name": "stdout",
     "output_type": "stream",
     "text": [
      "13207\n",
      "/home/matt/anaconda2/lib/python2.7/site-packages/seaborn/apionly.py:9: UserWarning: As seaborn no longer sets a default style on import, the seaborn.apionly module is deprecated. It will be removed in a future version.\n",
      "  warnings.warn(msg, UserWarning)\n",
      "/home/matt/anaconda2/lib/python2.7/site-packages/dask/config.py:168: YAMLLoadWarning: calling yaml.load() without Loader=... is deprecated, as the default Loader is unsafe. Please read https://msg.pyyaml.org/load for full details.\n",
      "  data = yaml.load(f.read()) or {}\n",
      "/home/matt/code/analysis/lab/misc/lfp_helpers.py:16: UserWarning: rhd package not found, lab.misc.lfp_helpers.py will not work\n",
      "  warnings.warn(\"rhd package not found, lab.misc.lfp_helpers.py will not work\")\n",
      "pickling /home/matt/creb/behavior/data/mjd535/mjd535_20180621113148.tdml\n",
      "loading trial 13207: /home/matt/creb/behavior/data/mjd535/mjd535_20180621113148.tdml\n",
      "13206\n",
      "/home/matt/anaconda2/lib/python2.7/site-packages/seaborn/apionly.py:9: UserWarning: As seaborn no longer sets a default style on import, the seaborn.apionly module is deprecated. It will be removed in a future version.\n",
      "  warnings.warn(msg, UserWarning)\n",
      "/home/matt/anaconda2/lib/python2.7/site-packages/dask/config.py:168: YAMLLoadWarning: calling yaml.load() without Loader=... is deprecated, as the default Loader is unsafe. Please read https://msg.pyyaml.org/load for full details.\n",
      "  data = yaml.load(f.read()) or {}\n",
      "/home/matt/code/analysis/lab/misc/lfp_helpers.py:16: UserWarning: rhd package not found, lab.misc.lfp_helpers.py will not work\n",
      "  warnings.warn(\"rhd package not found, lab.misc.lfp_helpers.py will not work\")\n",
      "pickling /home/matt/creb/behavior/data/mjd535/mjd535_20180621130639.tdml\n",
      "loading trial 13206: /home/matt/creb/behavior/data/mjd535/mjd535_20180621130639.tdml\n",
      "13205\n",
      "/home/matt/anaconda2/lib/python2.7/site-packages/seaborn/apionly.py:9: UserWarning: As seaborn no longer sets a default style on import, the seaborn.apionly module is deprecated. It will be removed in a future version.\n",
      "  warnings.warn(msg, UserWarning)\n",
      "/home/matt/anaconda2/lib/python2.7/site-packages/dask/config.py:168: YAMLLoadWarning: calling yaml.load() without Loader=... is deprecated, as the default Loader is unsafe. Please read https://msg.pyyaml.org/load for full details.\n",
      "  data = yaml.load(f.read()) or {}\n",
      "/home/matt/code/analysis/lab/misc/lfp_helpers.py:16: UserWarning: rhd package not found, lab.misc.lfp_helpers.py will not work\n",
      "  warnings.warn(\"rhd package not found, lab.misc.lfp_helpers.py will not work\")\n",
      "pickling /home/matt/creb/behavior/data/mjd535/mjd535_20180621141259.tdml\n",
      "loading trial 13205: /home/matt/creb/behavior/data/mjd535/mjd535_20180621141259.tdml\n"
     ]
    }
   ],
   "source": [
    "! cd /home/matt/code/analysis/automaticScripts\n",
    "for i,r in to_change.iterrows():\n",
    "    print(r.trialID)\n",
    "    ! cd /home/matt/code/analysis/automaticScripts to_change&& \\\n",
    "      python processJsonBehaviorData.py -f {r.bp.replace('pkl','tdml')} -t {r.trialID} -o"
   ]
  },
  {
   "cell_type": "markdown",
   "metadata": {},
   "source": [
    "# changed trials\n",
    "\n",
    "61\tmjd537\t1\t4\t1\t13209\t/home/matt/creb/behavior/data/mjd537/mjd537_20...\n",
    "62\tmjd537\t1\t4\t2\t13211\t/home/matt/creb/behavior/data/mjd537/mjd537_20...\n",
    "63\tmjd537\t1\t4\t3\t13210\t/home/matt/creb/behavior/data/mjd537/mjd537_20...\n",
    "79\tmjd535\t1\t4\t1\t13207\t/home/matt/creb/behavior/data/mjd535/mjd535_20...\n",
    "80\tmjd535\t1\t4\t2\t13206\t/home/matt/creb/behavior/data/mjd535/mjd535_20...\n",
    "81\tmjd535\t1\t4\t3\t13205\t/home/matt/creb/behavior/data/mjd535/mjd535_20..."
   ]
  },
  {
   "cell_type": "code",
   "execution_count": null,
   "metadata": {},
   "outputs": [],
   "source": []
  },
  {
   "cell_type": "code",
   "execution_count": 21,
   "metadata": {
    "ExecuteTime": {
     "end_time": "2019-07-21T01:39:22.656408Z",
     "start_time": "2019-07-21T01:39:22.449501Z"
    }
   },
   "outputs": [],
   "source": [
    "day_paired = [grp.pair('same group', groupby=['X_session']).pair(\n",
    "        'consecutive groups', groupby=['X_condition', 'X_day']) for grp in\n",
    "        exptGrps]"
   ]
  },
  {
   "cell_type": "code",
   "execution_count": 48,
   "metadata": {
    "ExecuteTime": {
     "end_time": "2019-07-21T01:50:43.168251Z",
     "start_time": "2019-07-21T01:50:43.160341Z"
    }
   },
   "outputs": [
    {
     "data": {
      "text/plain": [
       "83"
      ]
     },
     "execution_count": 48,
     "metadata": {},
     "output_type": "execute_result"
    }
   ],
   "source": [
    "len(day_paired[0])"
   ]
  },
  {
   "cell_type": "code",
   "execution_count": 43,
   "metadata": {
    "ExecuteTime": {
     "end_time": "2019-07-21T01:49:39.983058Z",
     "start_time": "2019-07-21T01:49:39.968025Z"
    }
   },
   "outputs": [
    {
     "name": "stdout",
     "output_type": "stream",
     "text": [
      "/home/matt/creb/CREB3-4/mjd511/20171209-1-1-1\n",
      "/home/matt/creb/CREB3-4/mjd511/20171209-1-2-1\n",
      "/home/matt/creb/CREB3-4/mjd511/20171209-1-3-1\n",
      "/home/matt/creb/CREB3-4/mjd511/20171210-2-1-1\n",
      "/home/matt/creb/CREB3-4/mjd511/20171210-2-2-1\n",
      "/home/matt/creb/CREB3-4/mjd511/20171210-2-3-1\n",
      "/home/matt/creb/CREB3-4/mjd511/20171211-3-1-1\n",
      "/home/matt/creb/CREB3-4/mjd511/20171211-3-2-1\n",
      "/home/matt/creb/CREB3-4/mjd511/20171211-3-3-1\n",
      "/home/matt/creb/CREB3-4/mjd511/20171212-4-1-2\n",
      "/home/matt/creb/CREB3-4/mjd511/20171212-4-2-2\n",
      "/home/matt/creb/CREB3-4/mjd511/20171212-4-3-2\n",
      "/home/matt/creb/CREB3-4/mjd511/20171213-5-1-2\n",
      "/home/matt/creb/CREB3-4/mjd511/20171213-5-2-2\n",
      "/home/matt/creb/CREB3-4/mjd511/20171213-5-3-2\n",
      "/home/matt/creb/CREB3-4/mjd511/20171214-6-1-2\n",
      "/home/matt/creb/CREB3-4/mjd511/20171214-6-2-2\n",
      "/home/matt/creb/CREB3-4/mjd511/20171214-6-3-2\n",
      "/home/matt/creb/CREB3-4/mjd503/20171129-HR-1-1-1\n",
      "/home/matt/creb/CREB3-4/mjd503/20171129-HR-1-2-1\n",
      "/home/matt/creb/CREB3-4/mjd503/20171129-HR-1-3-1\n",
      "/home/matt/creb/CREB3-4/mjd503/20171130-HR-2-1-1\n",
      "/home/matt/creb/CREB3-4/mjd503/20171130-HR-2-2-1\n",
      "/home/matt/creb/CREB3-4/mjd503/20171130-HR-2-3-1\n",
      "/home/matt/creb/CREB3-4/mjd503/20171201-HR-3-2-1\n",
      "/home/matt/creb/CREB3-4/mjd503/20171201-HR-3-3-1\n",
      "/home/matt/creb/CREB3-4/mjd503/20171202-HR-4-1-2\n",
      "/home/matt/creb/CREB3-4/mjd503/20171202-HR-4-2-2\n",
      "/home/matt/creb/CREB3-4/mjd503/20171203-HR-5-1-2\n",
      "/home/matt/creb/CREB3-4/mjd503/20171203-HR-5-2-2\n",
      "/home/matt/creb/CREB3-4/mjd503/20171204-HR-6-1-2\n",
      "/home/matt/creb/CREB3-4/mjd503/20171204-HR-6-2-2\n",
      "/home/matt/creb/CREB3-4/mjd500/20171129-HR-1-2-1\n",
      "/home/matt/creb/CREB3-4/mjd500/20171129-HR-1-3-1\n",
      "/home/matt/creb/CREB3-4/mjd500/20171130-HR-2-2-1\n",
      "/home/matt/creb/CREB3-4/mjd500/20171130-HR-2-3-1\n",
      "/home/matt/creb/CREB3-4/mjd500/20171201-HR-3-2-1\n",
      "/home/matt/creb/CREB3-4/mjd500/20171201-HR-3-3-1\n",
      "/home/matt/creb/CREB3-4/mjd500/20171202-HR-4-1-2\n",
      "/home/matt/creb/CREB3-4/mjd500/20171202-HR-4-2-2\n",
      "/home/matt/creb/CREB3-4/mjd500/20171202-HR-4-3-2\n",
      "/home/matt/creb/CREB3-4/mjd500/20171203-HR-5-1-2\n",
      "/home/matt/creb/CREB3-4/mjd500/20171203-HR-5-2-2\n",
      "/home/matt/creb/CREB3-4/mjd500/20171203-HR-5-3-2\n",
      "/home/matt/creb/CREB3-4/mjd500/20171204-HR-6-1-2\n",
      "/home/matt/creb/CREB3-4/mjd500/20171204-HR-6-2-2\n",
      "/home/matt/creb/CREB3-4/mjd500/20171204-HR-6-3-2\n",
      "/home/matt/creb/CREB9/mjd537/20180618-RF-MJD4-1-1-1\n",
      "/home/matt/creb/CREB9/mjd537/20180618-RF-MJD4-1-1-2\n",
      "/home/matt/creb/CREB9/mjd537/20180618-RF-MJD4-1-1-3\n",
      "/home/matt/creb/CREB9/mjd537/20180619-RF-MJD4-1-2-1\n",
      "/home/matt/creb/CREB9/mjd537/20180619-RF-MJD4-1-2-2\n",
      "/home/matt/creb/CREB9/mjd537/20180619-RF-MJD4-1-2-3\n",
      "/home/matt/creb/CREB9/mjd537/20180620-RF-MJD4-1-3-1\n",
      "/home/matt/creb/CREB9/mjd537/20180620-RF-MJD4-1-3-2\n",
      "/home/matt/creb/CREB9/mjd537/20180620-RF-MJD4-1-3-3\n",
      "/home/matt/creb/CREB9/mjd537/20180621-RF-MJD4-2-4-1\n",
      "/home/matt/creb/CREB9/mjd537/20180621-RF-MJD4-2-4-2\n",
      "/home/matt/creb/CREB9/mjd537/20180621-RF-MJD4-2-4-3\n",
      "/home/matt/creb/CREB9/mjd537/20180622-RF-MJD4-2-5-1\n",
      "/home/matt/creb/CREB9/mjd537/20180622-RF-MJD4-2-5-2\n",
      "/home/matt/creb/CREB9/mjd537/20180622-RF-MJD4-2-5-3\n",
      "/home/matt/creb/CREB9/mjd537/20180623-RF-MJD4-2-6-1\n",
      "/home/matt/creb/CREB9/mjd537/20180623-RF-MJD4-2-6-2\n",
      "/home/matt/creb/CREB9/mjd537/20180623-RF-MJD4-2-6-3\n",
      "/home/matt/creb/CREB9/mjd535/20180618-RF-MJD4-1-1-1\n",
      "/home/matt/creb/CREB9/mjd535/20180618-RF-MJD4-1-1-2\n",
      "/home/matt/creb/CREB9/mjd535/20180618-RF-MJD4-1-1-3\n",
      "/home/matt/creb/CREB9/mjd535/20180619-RF-MJD4-1-2-1\n",
      "/home/matt/creb/CREB9/mjd535/20180619-RF-MJD4-1-2-2\n",
      "/home/matt/creb/CREB9/mjd535/20180619-RF-MJD4-1-2-3\n",
      "/home/matt/creb/CREB9/mjd535/20180620-RF-MJD4-1-3-1\n",
      "/home/matt/creb/CREB9/mjd535/20180620-RF-MJD4-1-3-2\n",
      "/home/matt/creb/CREB9/mjd535/20180620-RF-MJD4-1-3-3\n",
      "/home/matt/creb/CREB9/mjd535/20180621-RF-MJD4-2-4-1\n",
      "/home/matt/creb/CREB9/mjd535/20180621-RF-MJD4-2-4-2\n",
      "/home/matt/creb/CREB9/mjd535/20180621-RF-MJD4-2-4-3\n",
      "/home/matt/creb/CREB9/mjd535/20180622-RF-MJD4-2-5-1\n",
      "/home/matt/creb/CREB9/mjd535/20180622-RF-MJD4-2-5-2\n",
      "/home/matt/creb/CREB9/mjd535/20180622-RF-MJD4-2-5-3\n",
      "/home/matt/creb/CREB9/mjd535/20180623-RF-MJD4-2-6-1\n",
      "/home/matt/creb/CREB9/mjd535/20180623-RF-MJD4-2-6-2\n",
      "/home/matt/creb/CREB9/mjd535/20180623-RF-MJD4-2-6-3\n"
     ]
    }
   ],
   "source": [
    "for e in day_paired[0]:\n",
    "    print(e.get('tSeriesDirectory'))"
   ]
  },
  {
   "cell_type": "code",
   "execution_count": 28,
   "metadata": {
    "ExecuteTime": {
     "end_time": "2019-07-21T01:40:26.903423Z",
     "start_time": "2019-07-21T01:40:26.895227Z"
    }
   },
   "outputs": [
    {
     "data": {
      "text/plain": [
       "74"
      ]
     },
     "execution_count": 28,
     "metadata": {},
     "output_type": "execute_result"
    }
   ],
   "source": [
    "len(day_paired[2])"
   ]
  }
 ],
 "metadata": {
  "kernelspec": {
   "display_name": "Python 2",
   "language": "python",
   "name": "python2"
  },
  "language_info": {
   "codemirror_mode": {
    "name": "ipython",
    "version": 2
   },
   "file_extension": ".py",
   "mimetype": "text/x-python",
   "name": "python",
   "nbconvert_exporter": "python",
   "pygments_lexer": "ipython2",
   "version": "2.7.16"
  },
  "toc": {
   "base_numbering": 1,
   "nav_menu": {},
   "number_sections": true,
   "sideBar": true,
   "skip_h1_title": false,
   "title_cell": "Table of Contents",
   "title_sidebar": "Contents",
   "toc_cell": true,
   "toc_position": {},
   "toc_section_display": true,
   "toc_window_display": false
  }
 },
 "nbformat": 4,
 "nbformat_minor": 2
}
