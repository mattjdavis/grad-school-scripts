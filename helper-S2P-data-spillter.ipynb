{
 "cells": [
  {
   "cell_type": "code",
   "execution_count": 11,
   "metadata": {
    "ExecuteTime": {
     "end_time": "2019-05-08T21:16:59.725641Z",
     "start_time": "2019-05-08T21:16:59.513175Z"
    }
   },
   "outputs": [],
   "source": [
    "import numpy as np\n",
    "from os.path import join\n",
    "\n",
    "\n",
    "s2p_path='/home/matt/creb-s2p/mjd537/d1/suite2p'\n",
    "\n",
    "ops_list = np.load(join(s2p_path, 'ops1.npy'))\n",
    "\n",
    "top_data_path = join(s2p_path, 'plane0')\n",
    "\n",
    "f = np.load(join(data_path, 'F.npy'))\n",
    "npil = np.load(join(data_path, 'Fneu.npy'))\n",
    "cell_idx = np.where(np.load(join(data_path, 'iscell.npy'))[:, 0])[0]\n"
   ]
  },
  {
   "cell_type": "code",
   "execution_count": 52,
   "metadata": {
    "ExecuteTime": {
     "end_time": "2019-05-09T05:01:11.706276Z",
     "start_time": "2019-05-09T05:01:11.699108Z"
    }
   },
   "outputs": [
    {
     "data": {
      "text/plain": [
       "255"
      ]
     },
     "execution_count": 52,
     "metadata": {},
     "output_type": "execute_result"
    }
   ],
   "source": [
    "ops_list[0]['Ly']"
   ]
  },
  {
   "cell_type": "code",
   "execution_count": 50,
   "metadata": {
    "ExecuteTime": {
     "end_time": "2019-05-09T05:00:13.073832Z",
     "start_time": "2019-05-09T05:00:13.062991Z"
    }
   },
   "outputs": [
    {
     "data": {
      "text/plain": [
       "[u'reg_file',\n",
       " u'corrXY1',\n",
       " u'yrange',\n",
       " u'meanImg',\n",
       " u'subfolders',\n",
       " u'meanImgE',\n",
       " u'save_path',\n",
       " u'NRsm',\n",
       " u'delete_bin',\n",
       " u'num_workers',\n",
       " u'prctile_baseline',\n",
       " u'allow_overlap',\n",
       " u'snr_thresh',\n",
       " u'Lyc',\n",
       " u'regPC',\n",
       " u'nonrigid',\n",
       " u'save_mat',\n",
       " u'reg_tif',\n",
       " u'subpixel',\n",
       " u'data_path',\n",
       " u'sdmov',\n",
       " u'threshold_scaling',\n",
       " u'num_workers_roi',\n",
       " u'yblock',\n",
       " u'frames_per_folder',\n",
       " u'inner_neuropil_radius',\n",
       " u'look_one_level_down',\n",
       " u'max_overlap',\n",
       " u'xoff',\n",
       " u'do_phasecorr',\n",
       " u'batch_size',\n",
       " u'h5py',\n",
       " u'keep_movie_raw',\n",
       " u'align_by_chan',\n",
       " u'nplanes',\n",
       " u'maxregshift',\n",
       " u'corrXY',\n",
       " u'win_baseline',\n",
       " u'diameter',\n",
       " u'tile_factor',\n",
       " u'chan2_max',\n",
       " u'smooth_sigma',\n",
       " u'block_size',\n",
       " u'yoff',\n",
       " u'max_iterations',\n",
       " u'nsvd_for_roi',\n",
       " u'regDX',\n",
       " u'nframes',\n",
       " u'navg_frames_svd',\n",
       " u'combined',\n",
       " u'fast_disk',\n",
       " u'sig_baseline',\n",
       " u'chan2_thres',\n",
       " u'outer_neuropil_radius',\n",
       " u'high_pass',\n",
       " u'smooth_masks',\n",
       " u'first_tiffs',\n",
       " u'Vcorr',\n",
       " u'mesoscan',\n",
       " u'yoff1',\n",
       " u'tau',\n",
       " u'xrange',\n",
       " u'maxregshiftNR',\n",
       " u'neucoeff',\n",
       " u'reg_file_raw',\n",
       " u'ops_path',\n",
       " u'nblocks',\n",
       " u'ratio_neuropil_to_cell',\n",
       " u'Lx',\n",
       " u'Ly',\n",
       " u'baseline',\n",
       " u'save_path0',\n",
       " u'min_neuropil_pixels',\n",
       " u'Lxc',\n",
       " u'fs',\n",
       " u'nchannels',\n",
       " u'xoff1',\n",
       " u'connected',\n",
       " u'functional_chan',\n",
       " u'nimg_init',\n",
       " u'h5py_key',\n",
       " u'reg_tif_chan2',\n",
       " u'filelist',\n",
       " u'refImg',\n",
       " u'xblock',\n",
       " u'do_registration',\n",
       " u'ratio_neuropil']"
      ]
     },
     "execution_count": 50,
     "metadata": {},
     "output_type": "execute_result"
    }
   ],
   "source": [
    "ops_list[0].keys()"
   ]
  },
  {
   "cell_type": "code",
   "execution_count": 27,
   "metadata": {
    "ExecuteTime": {
     "end_time": "2019-05-08T21:27:07.222528Z",
     "start_time": "2019-05-08T21:27:07.214029Z"
    }
   },
   "outputs": [
    {
     "data": {
      "text/plain": [
       "2"
      ]
     },
     "execution_count": 27,
     "metadata": {},
     "output_type": "execute_result"
    }
   ],
   "source": [
    "nfiles=len(ops_list[0][\"filelist\"])\n",
    "nfiles"
   ]
  },
  {
   "cell_type": "code",
   "execution_count": 31,
   "metadata": {
    "ExecuteTime": {
     "end_time": "2019-05-08T22:23:09.085213Z",
     "start_time": "2019-05-08T22:23:09.080740Z"
    }
   },
   "outputs": [],
   "source": [
    "d1 ='/home/matt/creb-s2p/mjd537/d1/suite2p'\n",
    "d2 ='/home/matt/creb-s2p/mjd537/d2/suite2p'"
   ]
  },
  {
   "cell_type": "code",
   "execution_count": 32,
   "metadata": {
    "ExecuteTime": {
     "end_time": "2019-05-08T22:23:10.871191Z",
     "start_time": "2019-05-08T22:23:10.780821Z"
    }
   },
   "outputs": [],
   "source": [
    "from shutil import copytree, ignore_patterns\n",
    "\n",
    "copytree(d1, d2, ignore=ignore_patterns('*.bin'))\n"
   ]
  },
  {
   "cell_type": "code",
   "execution_count": 41,
   "metadata": {
    "ExecuteTime": {
     "end_time": "2019-05-08T23:12:53.644868Z",
     "start_time": "2019-05-08T23:12:53.285046Z"
    }
   },
   "outputs": [],
   "source": [
    "from shutil import copytree, ignore_patterns\n",
    "\n",
    "s2p_path='/home/matt/creb-s2p/mjd537/d1/suite2p'\n",
    "\n",
    "\n",
    "nfiles=len(ops_list[0][\"data_path\"])\n",
    "ops_list = np.load(join(s2p_path, 'ops1.npy'))\n",
    "\n",
    "top_data_path = join(s2p_path, 'plane0')\n",
    "\n",
    "if nfiles == 2:\n",
    "    \n",
    "    # get paths\n",
    "    dp1= ops_list[0][\"data_path\"][0] + '/suite2p'\n",
    "    dp2 = ops_list[0][\"data_path\"][1] + '/suite2p'\n",
    "    \n",
    "    copytree(d1, d2, ignore=ignore_patterns('*.bin'))\n",
    "    \n",
    "    # load data\n",
    "    f = np.load(join(top_data_path, 'F.npy'))\n",
    "    npil = np.load(join(top_data_path, 'Fneu.npy'))\n",
    "    spks = np.load(join(top_data_path, 'spks.npy'))\n",
    "    \n",
    "    L = ops_list[0]['nframes'] / nfiles\n",
    "    \n",
    "    \n",
    "    \n",
    "    np.save(dp1+\"/plane0/F.npy\",f[:,:L])\n",
    "    np.save(dp2+\"/plane0/F.npy\",f[:,L:])\n",
    "    \n",
    "    np.save(dp1+\"/plane0/Fneu.npy\",npil[:,:L])\n",
    "    np.save(dp2+\"/plane0/Fneu.npy\",npil[:,L:])\n",
    "    \n",
    "    \n",
    "    np.save(dp1+\"/plane0/spks.npy\",spks[:,:L])\n",
    "    np.save(dp2+\"/plane0/spks.npy\",spks[:,L:])\n"
   ]
  },
  {
   "cell_type": "code",
   "execution_count": 46,
   "metadata": {
    "ExecuteTime": {
     "end_time": "2019-05-08T23:14:47.446751Z",
     "start_time": "2019-05-08T23:14:47.243603Z"
    }
   },
   "outputs": [],
   "source": [
    "stat = np.load(join(top_data_path, 'stat.npy'))\n",
    "ops = np.load(join(top_data_path, 'ops.npy'))"
   ]
  },
  {
   "cell_type": "code",
   "execution_count": 12,
   "metadata": {
    "ExecuteTime": {
     "end_time": "2019-05-08T21:17:42.556009Z",
     "start_time": "2019-05-08T21:17:42.550725Z"
    }
   },
   "outputs": [
    {
     "name": "stdout",
     "output_type": "stream",
     "text": [
      "[u'/home/matt/creb-s2p/mjd537/d1/mjd537-20180617-RF-MJD4B-DEEP-1-001.tif', u'/home/matt/creb-s2p/mjd537/d2/mjd537-20180617-RF-MJD4B-DEEP-2-001.tif']\n",
      "[u'/home/matt/creb-s2p/mjd537/d1', u'/home/matt/creb-s2p/mjd537/d2']\n",
      "11300\n"
     ]
    }
   ],
   "source": [
    "print(ops_list[0]['filelist'])\n",
    "print(ops_list[0]['data_path'])\n",
    "print(ops_list[0]['nframes'])"
   ]
  }
 ],
 "metadata": {
  "kernelspec": {
   "display_name": "Python 2",
   "language": "python",
   "name": "python2"
  },
  "language_info": {
   "codemirror_mode": {
    "name": "ipython",
    "version": 2
   },
   "file_extension": ".py",
   "mimetype": "text/x-python",
   "name": "python",
   "nbconvert_exporter": "python",
   "pygments_lexer": "ipython2",
   "version": "2.7.16"
  }
 },
 "nbformat": 4,
 "nbformat_minor": 2
}
